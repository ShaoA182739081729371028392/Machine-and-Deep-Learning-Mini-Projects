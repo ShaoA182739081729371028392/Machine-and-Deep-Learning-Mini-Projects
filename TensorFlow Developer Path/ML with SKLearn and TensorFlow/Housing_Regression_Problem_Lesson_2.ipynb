{
  "nbformat": 4,
  "nbformat_minor": 0,
  "metadata": {
    "colab": {
      "name": "Housing Regression Problem - Lesson 2",
      "provenance": [],
      "collapsed_sections": []
    },
    "kernelspec": {
      "name": "python3",
      "display_name": "Python 3"
    },
    "language_info": {
      "name": "python"
    }
  },
  "cells": [
    {
      "cell_type": "markdown",
      "metadata": {
        "id": "lr8fmbSKXKRD"
      },
      "source": [
        "# Import Dependencies\n"
      ]
    },
    {
      "cell_type": "code",
      "metadata": {
        "id": "bP2mViAecEnT"
      },
      "source": [
        "%%capture\n",
        "!pip install --upgrade scikit-learn"
      ],
      "execution_count": 1,
      "outputs": []
    },
    {
      "cell_type": "code",
      "metadata": {
        "id": "up3X0yGw7nMV"
      },
      "source": [
        "import pandas as pd\n",
        "import numpy as np\n",
        "import sklearn\n",
        "from sklearn.impute import SimpleImputer\n",
        "from sklearn.base import BaseEstimator, TransformerMixin\n",
        "from sklearn.pipeline import Pipeline, FeatureUnion\n",
        "from sklearn import tree\n",
        "from sklearn import ensemble\n",
        "import math"
      ],
      "execution_count": 17,
      "outputs": []
    },
    {
      "cell_type": "markdown",
      "metadata": {
        "id": "eSrb4c_TXO8S"
      },
      "source": [
        "# download dataset"
      ]
    },
    {
      "cell_type": "code",
      "metadata": {
        "id": "sSsEFqHbXRS0"
      },
      "source": [
        "import os\n",
        "import tarfile\n",
        "import urllib.request\n",
        "\n",
        "DOWNLOAD_ROOT = \"https://raw.githubusercontent.com/ageron/handson-ml2/master/\"\n",
        "HOUSING_PATH = os.path.join(\"datasets\", \"housing\")\n",
        "HOUSING_URL = DOWNLOAD_ROOT + \"datasets/housing/housing.tgz\"\n",
        "\n",
        "def fetch_housing_data(housing_url=HOUSING_URL, housing_path=HOUSING_PATH):\n",
        "    if not os.path.isdir(housing_path):\n",
        "        os.makedirs(housing_path)\n",
        "    tgz_path = os.path.join(housing_path, \"housing.tgz\")\n",
        "    urllib.request.urlretrieve(housing_url, tgz_path)\n",
        "    housing_tgz = tarfile.open(tgz_path)\n",
        "    housing_tgz.extractall(path=housing_path)\n",
        "    housing_tgz.close()"
      ],
      "execution_count": 3,
      "outputs": []
    },
    {
      "cell_type": "code",
      "metadata": {
        "id": "rWaaNU1ZXSH-"
      },
      "source": [
        "fetch_housing_data()"
      ],
      "execution_count": 4,
      "outputs": []
    },
    {
      "cell_type": "markdown",
      "metadata": {
        "id": "SXPnpaiFYGEG"
      },
      "source": [
        "# Load in the Dataset"
      ]
    },
    {
      "cell_type": "code",
      "metadata": {
        "id": "F5aC56cmX6Kh"
      },
      "source": [
        "path_to_data = './datasets/housing/housing.csv'\n",
        "csv = pd.read_csv(path_to_data)"
      ],
      "execution_count": 5,
      "outputs": []
    },
    {
      "cell_type": "markdown",
      "metadata": {
        "id": "n-bmOf2bPQZ0"
      },
      "source": [
        "Split into GT and Features"
      ]
    },
    {
      "cell_type": "code",
      "metadata": {
        "id": "k2A6SAT5pk4T"
      },
      "source": [
        "# Group Median_House_value using pd.cut\n",
        "cut_size = csv['median_house_value'].max() / 10\n",
        "csv['split'] = pd.cut(csv['median_house_value'],\n",
        "  bins = [i * cut_size for i in range(10)] + [np.inf],\n",
        "  labels = [i for i in range(10)]\n",
        "\n",
        ")"
      ],
      "execution_count": 6,
      "outputs": []
    },
    {
      "cell_type": "code",
      "metadata": {
        "id": "uQ_Rn-WqPUgd"
      },
      "source": [
        "GT = csv['median_house_value']\n",
        "del csv['median_house_value']\n",
        "splitter = sklearn.model_selection.StratifiedShuffleSplit(n_splits = 1, test_size = 0.1, random_state = 42)\n",
        "for train, test in splitter.split(csv, csv['split']):\n",
        "  TEST_GT = GT[test].reset_index(drop = True)\n",
        "  GT = GT[train].reset_index(drop = True)\n",
        "  TEST_CSV = csv.iloc[test].reset_index(drop = True)\n",
        "  csv =csv.iloc[train].reset_index(drop = True)"
      ],
      "execution_count": 7,
      "outputs": []
    },
    {
      "cell_type": "markdown",
      "metadata": {
        "id": "OnDkEXHHwtfu"
      },
      "source": [
        "# Data Preprocessing Pipeline"
      ]
    },
    {
      "cell_type": "code",
      "metadata": {
        "id": "S_MfKP6JaYE0"
      },
      "source": [
        "# Choose Headers\n",
        "std_headers = [column for column in csv.columns if column != 'ocean_proximity']\n",
        "one_hot_headers = ['ocean_proximity']"
      ],
      "execution_count": 8,
      "outputs": []
    },
    {
      "cell_type": "code",
      "metadata": {
        "id": "Dkui1M9RnMjY"
      },
      "source": [
        "# Encode the Headers, to index into NumPy Arrays \n",
        "header2idx = {}\n",
        "idx2header = {}\n",
        "for idx, header in enumerate(std_headers):\n",
        "  header2idx[header] = idx\n",
        "  idx2header[idx] = header"
      ],
      "execution_count": 9,
      "outputs": []
    },
    {
      "cell_type": "code",
      "metadata": {
        "id": "6Z7Pn-OoobqB"
      },
      "source": [
        "class DataFrameToNumPy(BaseEstimator, TransformerMixin):\n",
        "  def __init__(self, headers):\n",
        "    self.headers = headers\n",
        "  def fit(self, *args):\n",
        "    return self\n",
        "  def transform(self, X):\n",
        "    all_values = []\n",
        "    for header in self.headers:\n",
        "      all_values += [np.expand_dims(X[header], axis = 1)]\n",
        "    features = np.concatenate(all_values, axis = 1)\n",
        "\n",
        "    return features"
      ],
      "execution_count": 10,
      "outputs": []
    },
    {
      "cell_type": "code",
      "metadata": {
        "id": "leIQ3kHly2kP"
      },
      "source": [
        "class BedRoomsPerRoom(BaseEstimator, TransformerMixin):\n",
        "  def __init__(self):\n",
        "    self.headers = ['bedrooms_per_room', 'bedrooms_per_household', 'rooms_per_household']\n",
        "  def fit(self, *args):\n",
        "    return self\n",
        "  def transform(self, X, y = None):\n",
        "    num_households = X[:, header2idx['households']]\n",
        "    num_rooms = X[:, header2idx['total_rooms']]\n",
        "    num_bedrooms = X[:, header2idx['total_bedrooms']]\n",
        "\n",
        "    bedrooms_per_room = np.expand_dims(num_bedrooms / num_rooms, 1)\n",
        "    bedrooms_per_household = np.expand_dims(num_bedrooms / num_households, 1)\n",
        "    rooms_per_household = np.expand_dims(num_rooms / num_bedrooms, 1)\n",
        "    \n",
        "    return np.concatenate([X, bedrooms_per_room, bedrooms_per_household, rooms_per_household], axis = 1)"
      ],
      "execution_count": 11,
      "outputs": []
    },
    {
      "cell_type": "markdown",
      "metadata": {
        "id": "CgDFFt9EGkro"
      },
      "source": [
        "Transformer Path #1: main path"
      ]
    },
    {
      "cell_type": "code",
      "metadata": {
        "id": "P_FJNhi-GiKv"
      },
      "source": [
        "transformer_path1 = Pipeline([\n",
        "    ('dataframe', DataFrameToNumPy(std_headers)),\n",
        "    ('imputer', SimpleImputer(strategy = 'mean')),\n",
        "    ('bedrooms', BedRoomsPerRoom()),\n",
        "    ('normalizer', sklearn.preprocessing.StandardScaler())\n",
        "])"
      ],
      "execution_count": 12,
      "outputs": []
    },
    {
      "cell_type": "markdown",
      "metadata": {
        "id": "JUcdOaEki69I"
      },
      "source": [
        "Transformer Path #2: One-Hot Encode\n",
        "\n"
      ]
    },
    {
      "cell_type": "code",
      "metadata": {
        "id": "VBiBMbFJi81F"
      },
      "source": [
        "transformer_path2 = Pipeline([\n",
        "    ('dataframe', DataFrameToNumPy(one_hot_headers)),\n",
        "    ('one_hot', sklearn.preprocessing.OneHotEncoder())\n",
        "])"
      ],
      "execution_count": 13,
      "outputs": []
    },
    {
      "cell_type": "markdown",
      "metadata": {
        "id": "fUHOA3wImIDe"
      },
      "source": [
        "# Create Pipelines"
      ]
    },
    {
      "cell_type": "markdown",
      "metadata": {
        "id": "xXA994vCL8ul"
      },
      "source": [
        "Combine the Two Paths: "
      ]
    },
    {
      "cell_type": "code",
      "metadata": {
        "id": "YsPDIqrFc-3u"
      },
      "source": [
        "transformer_path = FeatureUnion(transformer_list = [\n",
        "    ('features_path', transformer_path1),\n",
        "    ('one_hot_path', transformer_path2)\n",
        "])"
      ],
      "execution_count": 14,
      "outputs": []
    },
    {
      "cell_type": "code",
      "metadata": {
        "id": "J4pfR3BJPaLw"
      },
      "source": [
        "# Transform\n",
        "X = transformer_path.fit_transform(csv)\n",
        "TEST_X = transformer_path.fit_transform(TEST_CSV)"
      ],
      "execution_count": 15,
      "outputs": []
    },
    {
      "cell_type": "markdown",
      "metadata": {
        "id": "O4jjy2ZEP1i6"
      },
      "source": [
        "# Create Splits\n",
        "- Stratified Shuffle Split on Housing Prices Labels.\n"
      ]
    },
    {
      "cell_type": "code",
      "metadata": {
        "colab": {
          "base_uri": "https://localhost:8080/"
        },
        "id": "i9c4_y78P23D",
        "outputId": "689895d7-0b6d-4a40-9b1d-372369b5f7ce"
      },
      "source": [
        "splitter = sklearn.model_selection.StratifiedKFold(n_splits = 5, shuffle = True, random_state = 42)\n",
        "FOLDS = []\n",
        "for train, test in splitter.split(np.zeros(X.shape[0]), GT):\n",
        "  FOLDS += [((X[train], GT[train]), (X[test], GT[test]))]\n",
        "cur_fold = 0\n",
        "(train_x, train_y), (val_x, val_y) = FOLDS[cur_fold]"
      ],
      "execution_count": 16,
      "outputs": [
        {
          "output_type": "stream",
          "text": [
            "/usr/local/lib/python3.7/dist-packages/sklearn/model_selection/_split.py:668: UserWarning: The least populated class in y has only 1 members, which is less than n_splits=5.\n",
            "  % (min_groups, self.n_splits)), UserWarning)\n"
          ],
          "name": "stderr"
        }
      ]
    },
    {
      "cell_type": "markdown",
      "metadata": {
        "id": "PoQDHW04MRX8"
      },
      "source": [
        "# Create the Model\n"
      ]
    },
    {
      "cell_type": "markdown",
      "metadata": {
        "id": "mYybB4D-PjJ3"
      },
      "source": [
        "Linear Regression "
      ]
    },
    {
      "cell_type": "code",
      "metadata": {
        "colab": {
          "base_uri": "https://localhost:8080/"
        },
        "id": "6rKFK509Pi80",
        "outputId": "9b542f86-44f5-46da-f4fd-86455cbc5ad5"
      },
      "source": [
        "model = sklearn.linear_model.LinearRegression()\n",
        "model.fit(train_x, train_y)"
      ],
      "execution_count": 80,
      "outputs": [
        {
          "output_type": "execute_result",
          "data": {
            "text/plain": [
              "LinearRegression()"
            ]
          },
          "metadata": {
            "tags": []
          },
          "execution_count": 80
        }
      ]
    },
    {
      "cell_type": "code",
      "metadata": {
        "id": "4St_QjJXRq5E"
      },
      "source": [
        "predicted = model.predict(val_x)"
      ],
      "execution_count": 81,
      "outputs": []
    },
    {
      "cell_type": "code",
      "metadata": {
        "colab": {
          "base_uri": "https://localhost:8080/"
        },
        "id": "Jsq9SLHjRvak",
        "outputId": "1b5b385f-b333-46d4-e37c-e0c17ce11620"
      },
      "source": [
        "error = math.sqrt(sklearn.metrics.mean_squared_error(val_y, predicted))\n",
        "print(error)"
      ],
      "execution_count": 83,
      "outputs": [
        {
          "output_type": "stream",
          "text": [
            "14686.403562299074\n"
          ],
          "name": "stdout"
        }
      ]
    },
    {
      "cell_type": "markdown",
      "metadata": {
        "id": "gP6N-6E0Pkpg"
      },
      "source": [
        "Decision Trees(Overfit)"
      ]
    },
    {
      "cell_type": "code",
      "metadata": {
        "colab": {
          "base_uri": "https://localhost:8080/"
        },
        "id": "tG4YorxZSVl2",
        "outputId": "853a278a-8b0e-4065-9369-2da30c152cbb"
      },
      "source": [
        "model = tree.DecisionTreeRegressor()\n",
        "model.fit(train_x, train_y)"
      ],
      "execution_count": 19,
      "outputs": [
        {
          "output_type": "execute_result",
          "data": {
            "text/plain": [
              "DecisionTreeRegressor()"
            ]
          },
          "metadata": {
            "tags": []
          },
          "execution_count": 19
        }
      ]
    },
    {
      "cell_type": "code",
      "metadata": {
        "colab": {
          "base_uri": "https://localhost:8080/"
        },
        "id": "rFm6ufcSl9Z6",
        "outputId": "80f3660c-ab00-465d-bf1b-496c979f38dd"
      },
      "source": [
        "predicted = model.predict(val_x)\n",
        "error = math.sqrt(sklearn.metrics.mean_squared_error(val_y, predicted))\n",
        "print(error)"
      ],
      "execution_count": 86,
      "outputs": [
        {
          "output_type": "stream",
          "text": [
            "0.0\n"
          ],
          "name": "stdout"
        }
      ]
    },
    {
      "cell_type": "markdown",
      "metadata": {
        "id": "7GImGHufRSXl"
      },
      "source": [
        "Random Forest\n"
      ]
    },
    {
      "cell_type": "code",
      "metadata": {
        "colab": {
          "base_uri": "https://localhost:8080/"
        },
        "id": "smxTXMAAsrwi",
        "outputId": "36e06ee9-093b-47d5-a8b9-80be2c57101d"
      },
      "source": [
        "model = sklearn.ensemble.RandomForestRegressor(n_estimators = 10)\n",
        "model.fit(train_x, train_y)"
      ],
      "execution_count": 20,
      "outputs": [
        {
          "output_type": "execute_result",
          "data": {
            "text/plain": [
              "RandomForestRegressor(n_estimators=10)"
            ]
          },
          "metadata": {
            "tags": []
          },
          "execution_count": 20
        }
      ]
    },
    {
      "cell_type": "code",
      "metadata": {
        "id": "0Z5P-m7zsyGa"
      },
      "source": [
        "predicted = model.predict(val_x)\n",
        "error = math.sqrt(sklearn.metrics.mean_squared_error(val_y, predicted))"
      ],
      "execution_count": 21,
      "outputs": []
    },
    {
      "cell_type": "markdown",
      "metadata": {
        "id": "Im8PkNPAt5Ib"
      },
      "source": [
        "# Fine tune results and Inference"
      ]
    },
    {
      "cell_type": "code",
      "metadata": {
        "id": "OPT8zXnIt3QM"
      },
      "source": [
        "grid = {\n",
        "    'n_estimators': [100],\n",
        "    'max_features': [17]\n",
        "}\n",
        "grid_search = sklearn.model_selection.GridSearchCV(\n",
        "    sklearn.ensemble.RandomForestRegressor(),\n",
        "    grid,\n",
        "    cv = 5,\n",
        "    scoring = 'neg_mean_squared_error',\n",
        "    return_train_score = True\n",
        ")"
      ],
      "execution_count": 40,
      "outputs": []
    },
    {
      "cell_type": "code",
      "metadata": {
        "colab": {
          "base_uri": "https://localhost:8080/"
        },
        "id": "Vt3G8QORvBkG",
        "outputId": "91a1efd5-f254-4f94-d9e1-150a849df19f"
      },
      "source": [
        "grid_search.fit(train_x, train_y)"
      ],
      "execution_count": 41,
      "outputs": [
        {
          "output_type": "execute_result",
          "data": {
            "text/plain": [
              "GridSearchCV(cv=5, estimator=RandomForestRegressor(),\n",
              "             param_grid={'max_features': [17], 'n_estimators': [100]},\n",
              "             return_train_score=True, scoring='neg_mean_squared_error')"
            ]
          },
          "metadata": {
            "tags": []
          },
          "execution_count": 41
        }
      ]
    },
    {
      "cell_type": "code",
      "metadata": {
        "colab": {
          "base_uri": "https://localhost:8080/"
        },
        "id": "woSwOUnpvD55",
        "outputId": "b0514865-eda7-4ec2-e1ae-cf674ad0f929"
      },
      "source": [
        "grid_search.best_estimator_"
      ],
      "execution_count": 42,
      "outputs": [
        {
          "output_type": "execute_result",
          "data": {
            "text/plain": [
              "RandomForestRegressor(max_features=17)"
            ]
          },
          "metadata": {
            "tags": []
          },
          "execution_count": 42
        }
      ]
    },
    {
      "cell_type": "code",
      "metadata": {
        "colab": {
          "base_uri": "https://localhost:8080/"
        },
        "id": "qVlsmfwtv58q",
        "outputId": "db2280f0-c9fa-40ff-c8cb-09d35af36f43"
      },
      "source": [
        "for score, params in zip(grid_search.cv_results_['mean_test_score'], grid_search.cv_results_['params']) : print(np.sqrt(-score), params)"
      ],
      "execution_count": 43,
      "outputs": [
        {
          "output_type": "stream",
          "text": [
            "12751.779579886226 {'max_features': 17, 'n_estimators': 100}\n"
          ],
          "name": "stdout"
        }
      ]
    },
    {
      "cell_type": "code",
      "metadata": {
        "colab": {
          "base_uri": "https://localhost:8080/"
        },
        "id": "h7eHfkq2wBci",
        "outputId": "8773715b-8fa8-4086-d983-e97babbf0c7a"
      },
      "source": [
        "# save and download the best model\n",
        "import joblib\n",
        "joblib.dump(grid_search.best_estimator_, 'model.pkl')"
      ],
      "execution_count": 51,
      "outputs": [
        {
          "output_type": "execute_result",
          "data": {
            "text/plain": [
              "['model.pkl']"
            ]
          },
          "metadata": {
            "tags": []
          },
          "execution_count": 51
        }
      ]
    },
    {
      "cell_type": "code",
      "metadata": {
        "id": "nfELawRqyHC7"
      },
      "source": [
        ""
      ],
      "execution_count": null,
      "outputs": []
    }
  ]
}