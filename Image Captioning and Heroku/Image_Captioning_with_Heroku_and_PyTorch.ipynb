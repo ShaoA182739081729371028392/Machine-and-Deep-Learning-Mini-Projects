{
  "nbformat": 4,
  "nbformat_minor": 0,
  "metadata": {
    "colab": {
      "name": "Image Captioning with Heroku and PyTorch",
      "provenance": [],
      "collapsed_sections": [
        "edQ67ZqB5KXl"
      ]
    },
    "kernelspec": {
      "name": "python3",
      "display_name": "Python 3"
    },
    "accelerator": "GPU"
  },
  "cells": [
    {
      "cell_type": "markdown",
      "metadata": {
        "id": "edQ67ZqB5KXl"
      },
      "source": [
        "# Model Structure: Modified SEResNet152 with DistilBERT Captioning System(Both Transfer Learned)."
      ]
    },
    {
      "cell_type": "markdown",
      "metadata": {
        "id": "GeuoPKvD5Tzt"
      },
      "source": [
        "# Import Dependencies"
      ]
    },
    {
      "cell_type": "code",
      "metadata": {
        "id": "3syn9XO4c73y"
      },
      "source": [
        "%%capture\n",
        "import PIL\n",
        "\n",
        "import torch\n",
        "import torch.nn as nn\n",
        "import torch.optim as optim\n",
        "import torch.nn.functional as F\n",
        "import torchvision\n",
        "import torchvision.transforms as transforms\n",
        "import tqdm.notebook as tqdm\n",
        "from sklearn.model_selection import train_test_split\n",
        "\n",
        "import random\n",
        "import copy\n",
        "import cv2\n",
        "import math\n",
        "\n",
        "import numpy as np\n",
        "import pandas as pd\n",
        "import matplotlib.pyplot as plt\n",
        "\n",
        "!pip install livelossplot\n",
        "import livelossplot\n",
        "\n",
        "!pip install timm\n",
        "import timm\n",
        "\n",
        "!pip install transformers\n",
        "import transformers\n",
        "\n",
        "!pip install kaggle\n",
        "import nltk \n",
        "nltk.download('punkt')\n",
        "device = torch.device('cuda' if torch.cuda.is_available() else 'cpu')"
      ],
      "execution_count": 1,
      "outputs": []
    },
    {
      "cell_type": "code",
      "metadata": {
        "id": "T14OzESlDjSU",
        "colab": {
          "base_uri": "https://localhost:8080/"
        },
        "outputId": "feead3a9-bfef-474f-c431-3ef9a7bbd094"
      },
      "source": [
        "!mkdir /root/.kaggle/\n",
        "!cp -f ./kaggle.json /root/.kaggle/kaggle.json\n",
        "!chmod 600 /root/.kaggle/kaggle.json"
      ],
      "execution_count": 2,
      "outputs": [
        {
          "output_type": "stream",
          "text": [
            "mkdir: cannot create directory ‘/root/.kaggle/’: File exists\n"
          ],
          "name": "stdout"
        }
      ]
    },
    {
      "cell_type": "markdown",
      "metadata": {
        "id": "tKVGScmXC_YU"
      },
      "source": [
        "Load in the Dataset(FlicKR)"
      ]
    },
    {
      "cell_type": "code",
      "metadata": {
        "id": "cMMWMxuoDUw6"
      },
      "source": [
        "%%capture\n",
        "#!kaggle datasets download -d hsankesara/flickr-image-dataset\n",
        "#!unzip -a ./flickr-image-dataset.zip\n",
        "#!rm -f flickr-image-dataset.zip"
      ],
      "execution_count": 3,
      "outputs": []
    },
    {
      "cell_type": "code",
      "metadata": {
        "id": "GZZ86KooHM0O"
      },
      "source": [
        "# Extract Unique Images(So dataset is only 30K images long)\n",
        "images_dataframe = pd.read_csv(\"./flickr30k_images/results.csv\", error_bad_lines=False, sep = \"|\", index_col = 'image_name')\n",
        "images_dataframe = images_dataframe.iloc[images_dataframe[' comment_number'].values == ' 0']"
      ],
      "execution_count": 4,
      "outputs": []
    },
    {
      "cell_type": "markdown",
      "metadata": {
        "id": "L-YGKYLt4DEP"
      },
      "source": [
        "Helpers for Reproducibility:"
      ]
    },
    {
      "cell_type": "code",
      "metadata": {
        "id": "lgaONB-q4FK8"
      },
      "source": [
        "import os\n",
        "import random\n",
        "seed = 42\n",
        "random.seed(seed)\n",
        "os.environ['PYTHONHASHSEED'] = str(seed)\n",
        "np.random.seed(seed)\n",
        "torch.manual_seed(seed)\n",
        "torch.cuda.manual_seed(seed)\n",
        "torch.cuda.manual_seed_all(seed)\n",
        "torch.backends.cudnn.deterministic = True\n",
        "torch.backends.cudnn.benchmark = False"
      ],
      "execution_count": 5,
      "outputs": []
    },
    {
      "cell_type": "code",
      "metadata": {
        "id": "euazJsGS4F5O"
      },
      "source": [
        "def seed_worker(worker_id):\n",
        "    worker_seed = torch.initial_seed() % 2**32\n",
        "    numpy.random.seed(worker_seed)\n",
        "    random.seed(worker_seed)"
      ],
      "execution_count": 6,
      "outputs": []
    },
    {
      "cell_type": "markdown",
      "metadata": {
        "id": "srujoVaYI84q"
      },
      "source": [
        "# Custom Dataloader"
      ]
    },
    {
      "cell_type": "code",
      "metadata": {
        "id": "eUMW3lkSIKqW"
      },
      "source": [
        "# HYPER PARAMETERS \n",
        "BASE_IMAGE_PATH = \"./flickr30k_images/flickr30k_images/\"\n",
        "BATCH_SIZE = 32\n",
        "TEST_BATCH_SIZE = 32\n",
        "TRAIN_SIZE = 0.9995"
      ],
      "execution_count": 7,
      "outputs": []
    },
    {
      "cell_type": "markdown",
      "metadata": {
        "id": "X61uaT8hI09t"
      },
      "source": [
        "Transforms"
      ]
    },
    {
      "cell_type": "code",
      "metadata": {
        "id": "g2zNnYyJIJCk"
      },
      "source": [
        "# Transforms Used\n",
        "TRAIN_TRANSFORMS = transforms.Compose([\n",
        "  transforms.RandomGrayscale(),\n",
        "  transforms.RandomHorizontalFlip(),\n",
        "  transforms.RandomRotation(10),\n",
        "  transforms.ColorJitter(),\n",
        "  transforms.RandomRotation(15),\n",
        "  transforms.Normalize(mean = [0.485, 0.456, 0.406], std = [0.229, 0.224, 0.225])\n",
        "])\n",
        "TEST_TRANSFORMS = transforms.Compose([\n",
        "  transforms.Normalize(mean = [0.485, 0.456, 0.406], std = [0.229, 0.224, 0.225])\n",
        "])"
      ],
      "execution_count": 8,
      "outputs": []
    },
    {
      "cell_type": "code",
      "metadata": {
        "id": "s2ParS9jI8NE"
      },
      "source": [
        "class ImageCaptioningDataset(torch.utils.data.Dataset):\n",
        "  def __init__(self, transforms, base_path, dataframe, device):\n",
        "    self.dataframe = dataframe\n",
        "    self.transforms = transforms \n",
        "    self.base_path = base_path\n",
        "    self.device = device\n",
        "  def __len__(self):\n",
        "    return len(self.dataframe)\n",
        "  def __getitem__(self, idx):\n",
        "    index = self.dataframe.index[idx]\n",
        "    caption = str.strip(self.dataframe.iloc[idx][1])[:-2]\n",
        "    lower_caption = str.lower(caption)\n",
        "    # Load in Image\n",
        "    image_path = self.base_path + index\n",
        "    image = cv2.imread(image_path)\n",
        "    image = cv2.cvtColor(image, cv2.COLOR_BGR2RGB)\n",
        "    image = torch.tensor(image, device = self.device).to(torch.float32) / 255.0\n",
        "    image = image.transpose(1, 2).transpose(0, 1)\n",
        "    image = self.transforms(image)\n",
        "    \n",
        "    return image, caption"
      ],
      "execution_count": 9,
      "outputs": []
    },
    {
      "cell_type": "code",
      "metadata": {
        "id": "ST_5c-v6bjpO"
      },
      "source": [
        "Train_dataframe, Val_dataframe = train_test_split(images_dataframe, train_size = TRAIN_SIZE, test_size = 1 - TRAIN_SIZE, random_state = 42)"
      ],
      "execution_count": 10,
      "outputs": []
    },
    {
      "cell_type": "code",
      "metadata": {
        "id": "kR7iXRQh3JVs"
      },
      "source": [
        "Train_Dataset = ImageCaptioningDataset(TRAIN_TRANSFORMS, BASE_IMAGE_PATH, Train_dataframe, device)\n",
        "Val_Dataset = ImageCaptioningDataset(TEST_TRANSFORMS, BASE_IMAGE_PATH, Val_dataframe, device)"
      ],
      "execution_count": 11,
      "outputs": []
    },
    {
      "cell_type": "code",
      "metadata": {
        "id": "X0kluKsuXFIP"
      },
      "source": [
        "def custom_collate(vals):\n",
        "  images = []\n",
        "  labels = []\n",
        "  for val in vals:\n",
        "    images += [val[0]]\n",
        "    labels += [val[1]]\n",
        "  return images, labels"
      ],
      "execution_count": 12,
      "outputs": []
    },
    {
      "cell_type": "markdown",
      "metadata": {
        "id": "rv312FGq4QGw"
      },
      "source": [
        "Train/Val Split"
      ]
    },
    {
      "cell_type": "code",
      "metadata": {
        "id": "bF2YqLhy4uKY"
      },
      "source": [
        "TrainDataloader = torch.utils.data.DataLoader(Train_Dataset, batch_size = BATCH_SIZE, shuffle = True, worker_init_fn = seed_worker, collate_fn = custom_collate)\n",
        "ValDataloader = torch.utils.data.DataLoader(Val_Dataset, batch_size = TEST_BATCH_SIZE, collate_fn= custom_collate)"
      ],
      "execution_count": 13,
      "outputs": []
    },
    {
      "cell_type": "markdown",
      "metadata": {
        "id": "ape6taPgqUKH"
      },
      "source": [
        "# Image Encoding"
      ]
    },
    {
      "cell_type": "markdown",
      "metadata": {
        "id": "BvlHtlL5uEaD"
      },
      "source": [
        "Custom Resizer: Using a Bilinear Model to scale down images to 224 x 224\n",
        "\n",
        "Using a CNN to resize down images: as proposed recently."
      ]
    },
    {
      "cell_type": "code",
      "metadata": {
        "id": "OW2pgnFBcYnW"
      },
      "source": [
        "class ConvBlock(nn.Module):\n",
        "  def __init__(self, in_features, out_features, kernel_size, padding, groups):\n",
        "    super().__init__()\n",
        "    self.conv = nn.Conv2d(in_features, out_features, kernel_size = kernel_size, padding = padding, groups = groups)\n",
        "    self.bn = nn.BatchNorm2d(out_features)\n",
        "    self.act1 = nn.SiLU(inplace = True)\n",
        "  def forward(self, x):\n",
        "    return self.bn(self.act1(self.conv(x)))"
      ],
      "execution_count": 14,
      "outputs": []
    },
    {
      "cell_type": "code",
      "metadata": {
        "id": "eSmmDDsKT6XJ"
      },
      "source": [
        "class DownSampleConvBlock(nn.Module):\n",
        "  def __init__(self, in_features, out_features, kernel_size, padding, groups, stride):\n",
        "    super().__init__()\n",
        "    self.conv = nn.Conv2d(in_features, out_features, kernel_size, stride, padding = padding, groups = groups)\n",
        "    self.bn = nn.BatchNorm2d(out_features)\n",
        "    self.act1 = nn.SiLU(inplace = True)\n",
        "  def forward(self, x):\n",
        "    return self.bn(self.act1(self.conv(x)))"
      ],
      "execution_count": 15,
      "outputs": []
    },
    {
      "cell_type": "code",
      "metadata": {
        "id": "u4kYD9rfIpK1"
      },
      "source": [
        "class RegularSE(nn.Module):\n",
        "  '''\n",
        "  Regular Squeeze and Excitation Block \n",
        "  '''\n",
        "  def __init__(self, in_dim, inner_dim):\n",
        "    super().__init__()\n",
        "    self.in_dim = in_dim\n",
        "    self.inner_dim = inner_dim\n",
        "    self.Squeeze = nn.Linear(self.in_dim, self.inner_dim)\n",
        "    self.SiLU = nn.SiLU(inplace = True)\n",
        "    self.Excite = nn.Linear(self.inner_dim, self.in_dim)\n",
        "  def forward(self, x):\n",
        "    '''\n",
        "    Performs Channel-Wise Attention using Squeeze Excite Blocks\n",
        "    '''\n",
        "    avg_pool = torch.mean(x, dim = -1)\n",
        "    avg_pool = torch.mean(avg_pool, dim = -1) \n",
        "    squeeze = self.SiLU(self.Squeeze(avg_pool))\n",
        "    excite = torch.sigmoid(self.Excite(squeeze)).unsqueeze(-1).unsqueeze(-1)\n",
        "    return excite * x \n"
      ],
      "execution_count": 16,
      "outputs": []
    },
    {
      "cell_type": "code",
      "metadata": {
        "id": "0Y1eH7cIEAJW"
      },
      "source": [
        "class ResBottleNeck(nn.Module):\n",
        "  def __init__(self, in_features, inner_features, device):\n",
        "    super().__init__()\n",
        "    self.device = device\n",
        "    self.in_features = in_features\n",
        "    self.inner_features = inner_features\n",
        "    \n",
        "    self.squeeze = ConvBlock(self.in_features, self.inner_features, 1, 0, 1)\n",
        "    self.process = ConvBlock(self.inner_features, self.inner_features, 3, 1, self.inner_features)\n",
        "    self.SE = RegularSE(self.inner_features, self.inner_features // 4)\n",
        "    self.expand = ConvBlock(self.inner_features, self.in_features, 1, 0, 1)\n",
        "    self.gamma = nn.Parameter(torch.zeros(1, device = self.device))\n",
        "  def forward(self, x):\n",
        "    '''\n",
        "    x: Tensor(B, C, H, W)\n",
        "    '''\n",
        "    squeeze = self.squeeze(x)\n",
        "    process= self.process(squeeze)\n",
        "    SE = self.SE(process)\n",
        "    expand = self.expand(SE) \n",
        "    return expand * self.gamma + x\n"
      ],
      "execution_count": 17,
      "outputs": []
    },
    {
      "cell_type": "code",
      "metadata": {
        "id": "C9GwG-pIydeE"
      },
      "source": [
        "class CNNDownSampler(nn.Module):\n",
        "  '''\n",
        "  Leverages Bilinear interpolation and a CNN to resize and enhance image features\n",
        "  '''\n",
        "  def __init__(self, out_size, device):\n",
        "    super().__init__()\n",
        "    self.device = device\n",
        "    self.out_size = out_size\n",
        "    self.initial_processing = nn.Sequential(*[\n",
        "      ConvBlock(3, 16, 7, 3, 1),\n",
        "      ResBottleNeck(16, 4, self.device)\n",
        "    ])\n",
        "    self.num_res = 2\n",
        "    self.middle_processing = nn.Sequential(*[\n",
        "      ResBottleNeck(16, 4, self.device) for i in range(self.num_res) \n",
        "    ])\n",
        "    \n",
        "    self.proj = ConvBlock(16, 3, 1, 0, 1)\n",
        "    self.gamma = nn.Parameter(torch.zeros((1), device = self.device))\n",
        "  def forward(self, x):\n",
        "    '''\n",
        "    x: Tensor(3, H, W)\n",
        "    H and W can be anything:\n",
        "    output: Tensor(B, 3, out_size, out_size), enhanced resized image features\n",
        "    '''\n",
        "    x = x.unsqueeze(0) # (1, 3, H, W)\n",
        "    # Interpolate to desired size(One pathway)\n",
        "    resized_base = F.interpolate(x, size = (self.out_size, self.out_size), mode= 'bilinear')\n",
        "    # Use Convolutions\n",
        "    initial_processed = self.initial_processing(x) # (B, 16, H, W) \n",
        "    # Interpolate again\n",
        "    resized_processed = F.interpolate(initial_processed, (self.out_size, self.out_size), mode = 'bilinear')\n",
        "    middle_processed = self.middle_processing(resized_processed)\n",
        "    proj = self.proj(middle_processed)\n",
        "    return proj * self.gamma + resized_base"
      ],
      "execution_count": 18,
      "outputs": []
    },
    {
      "cell_type": "code",
      "metadata": {
        "id": "ris2HvwPasRu"
      },
      "source": [
        "class DownSampler(nn.Module):\n",
        "  def __init__(self, out_size, device):\n",
        "    super().__init__()\n",
        "    self.out_size = out_size\n",
        "    self.device = device\n",
        "    self.downsampler = CNNDownSampler(self.out_size, self.device)\n",
        "  def forward(self, images):\n",
        "    '''\n",
        "    Resizes and processes a batch\n",
        "    '''\n",
        "    resized_images = []\n",
        "    for image in images:\n",
        "      resized_images += [torch.squeeze(self.downsampler(image))]\n",
        "    return torch.stack(resized_images)"
      ],
      "execution_count": 19,
      "outputs": []
    },
    {
      "cell_type": "code",
      "metadata": {
        "id": "FYKkIpADbon0"
      },
      "source": [
        "class InvertedResidualBlock(nn.Module):\n",
        "  def __init__(self, in_features, inner_features, device):\n",
        "    super().__init__()\n",
        "    self.device = device\n",
        "    self.in_features = in_features\n",
        "    self.inner_features = inner_features\n",
        "    self.squeeze = ConvBlock(self.in_features, self.inner_features, 1, 0, 1)\n",
        "    self.depthwise = ConvBlock(self.inner_features, self.inner_features, 3, 1, self.inner_features)\n",
        "    self.SE = RegularSE(self.inner_features, self.in_features // 16)\n",
        "    self.expand = ConvBlock(self.inner_features, self.in_features, 1, 0, 1)\n",
        "    self.gamma = nn.Parameter(torch.zeros((1), device = self.device))\n",
        "  def forward(self, x):\n",
        "    squeeze = self.squeeze(x)\n",
        "    depthwise = self.depthwise(squeeze)\n",
        "    SE = self.SE(depthwise)\n",
        "    expand = self.expand(SE)\n",
        "    return expand * self.gamma + x"
      ],
      "execution_count": 20,
      "outputs": []
    },
    {
      "cell_type": "markdown",
      "metadata": {
        "id": "rCaG5XZyuNaL"
      },
      "source": [
        "EfficientNetb0 Transfer Learned:"
      ]
    },
    {
      "cell_type": "code",
      "metadata": {
        "id": "b_18pkeqdTKT"
      },
      "source": [
        "class EfficientNet(nn.Module):\n",
        "  '''\n",
        "  Modified EfficientNetb0\n",
        "  '''\n",
        "  def freeze(self, layer):\n",
        "    for parameter in layer.parameters():\n",
        "      parameter.requires_grad = False\n",
        "  def unfreeze(self, layer):\n",
        "    for parameter in layer.parameters():\n",
        "      parameter.requires_grad = True\n",
        "  def __init__(self, out_features, device):\n",
        "    super().__init__()\n",
        "    self.out_features = out_features\n",
        "    self.device = device\n",
        "    # Download Pretrained model and Weights\n",
        "    self.model = timm.create_model(\"efficientnet_b0\", pretrained = True)\n",
        "    # Extract Layers\n",
        "    self.conv1 = self.model.conv_stem\n",
        "    self.bn1 = self.model.bn1\n",
        "    self.act1 = self.model.act1\n",
        "    # Pretrained Blocks\n",
        "    self.block0 = self.model.blocks[0]\n",
        "    self.block1 = self.model.blocks[1]\n",
        "    self.block2 = self.model.blocks[2] # (B, 40, 32, 32)\n",
        "    self.block3 = self.model.blocks[3]\n",
        "    self.block4 = self.model.blocks[4] # (B, 112, 16, 16)\n",
        "    self.block5 = self.model.blocks[5]\n",
        "    self.block6 = self.model.blocks[6] # (B, 320, 8, 8)\n",
        "    # Freeze a Few Initial Layers\n",
        "    self.freeze(self.block0)\n",
        "    self.freeze(self.block1)\n",
        "    self.freeze(self.bn1)\n",
        "    self.freeze(self.conv1)\n",
        "    # Custom Layers\n",
        "    self.Attention1 = RegularSE(40, 8)\n",
        "    self.Attention2 = RegularSE(112, 32)\n",
        "    self.Attention3 = RegularSE(320, 64)\n",
        "\n",
        "    self.features_extract =nn.Identity() #nn.Sequential(*\n",
        "    #  [DownSampleConvBlock(320, 320, 5, 2, 320, 2), ConvBlock(320, 512, 1, 0, 1)] + \n",
        "    #  [InvertedResidualBlock(512, 1024, self.device) for i in range(5)])\n",
        "    self.proj = ConvBlock(320, self.out_features, 1, 0, 1) # Not Enough for Compute\n",
        "  def forward(self, x):\n",
        "    B, _, _, _ = x.shape\n",
        "    conv1 = self.bn1(self.act1(self.conv1(x))) # (B, 32, 128, 128)\n",
        "    \n",
        "    block0 = self.block0(conv1)\n",
        "    block1 = self.block1(block0)\n",
        "    block2 = self.block2(block1)\n",
        "    attention1 = self.Attention1(block2)\n",
        "    block3 = self.block3(attention1)\n",
        "    block4 = self.block4(block3)\n",
        "    attention2 = self.Attention2(block4)\n",
        "    block5 = self.block5(attention2)\n",
        "    block6 = self.block6(block5)\n",
        "    attention3 = self.Attention3(block6)\n",
        "    \n",
        "    extract_features = self.proj(self.features_extract(attention3)) # (B, 768, 4, 4)\n",
        "    return extract_features.view(B, self.out_features, -1).transpose(1, 2) # (B, 16, 768)"
      ],
      "execution_count": 21,
      "outputs": []
    },
    {
      "cell_type": "code",
      "metadata": {
        "id": "9V5W_mqzuYdU"
      },
      "source": [
        "class ImageEncoder(nn.Module):\n",
        "  def __init__(self, in_dim, out_size, device):\n",
        "    super().__init__()\n",
        "    self.device = device\n",
        "    self.in_dim = in_dim\n",
        "    self.out_size = out_size\n",
        "    self.downsampler = DownSampler(self.out_size, self.device)\n",
        "    self.encoder = EfficientNet(self.in_dim, self.device)\n",
        "  def forward(self, images):\n",
        "    downsized_images = self.downsampler(images) # (B, 3, out_size, out_size)\n",
        "    encoded = self.encoder(downsized_images)\n",
        "    return encoded"
      ],
      "execution_count": 22,
      "outputs": []
    },
    {
      "cell_type": "markdown",
      "metadata": {
        "id": "4d9Cbb-ccfoU"
      },
      "source": [
        "# Custom Transformer(QANET)"
      ]
    },
    {
      "cell_type": "code",
      "metadata": {
        "id": "_UiWNvlnZJ3r"
      },
      "source": [
        "class EncoderDecoderAttention(nn.Module):\n",
        "  def __init__(self, in_features, inner_features, num_heads):\n",
        "    super().__init__()\n",
        "    self.in_features = in_features\n",
        "    self.inner_features = inner_features\n",
        "    self.num_heads = num_heads\n",
        "\n",
        "    self.K = nn.Linear(self.in_features, self.inner_features * self.num_heads)\n",
        "    self.V = nn.Linear(self.in_features, self.inner_features * self.num_heads)\n",
        "    self.Q = nn.Linear(self.in_features, self.inner_features * self.num_heads)\n",
        "    self.Linear = nn.Linear(self.inner_features * self.num_heads, self.in_features)\n",
        "  def forward(self, encoder, decoder):\n",
        "    '''\n",
        "    Encoder: Tensor(B, L_enc, C)\n",
        "    Decoder: Tensor(B, L_dec, C)\n",
        "    '''    \n",
        "    B, L_enc, _ = encoder.shape\n",
        "    B, L_dec, _ = decoder.shape \n",
        "    Keys = self.K(encoder)\n",
        "    Values = self.V(encoder) # (B, L_enc, HI)\n",
        "    Queries = self.Q(decoder) # (B, L_dec, HI)\n",
        "\n",
        "    Keys = Keys.reshape(B, L_enc, self.num_heads, self.inner_features)\n",
        "    Values = Values.reshape(B, L_enc, self.num_heads, self.inner_features) \n",
        "    Queries = Queries.reshape(B, L_dec, self.num_heads, self.inner_features)\n",
        "\n",
        "    Keys = Keys.transpose(1, 2)\n",
        "    Values = Values.transpose(1, 2)\n",
        "    Queries = Queries.transpose(1, 2)\n",
        "\n",
        "    Keys = Keys.reshape(B * self.num_heads, L_enc, self.inner_features)\n",
        "    Values = Values.reshape(B * self.num_heads, L_enc, self.inner_features)\n",
        "    Queries = Queries.reshape(B * self.num_heads, L_dec, self.inner_features)\n",
        "\n",
        "    att_mat = F.softmax(torch.bmm(Keys, Queries.transpose(1, 2)) / math.sqrt(self.inner_features)) # (B, L_enc, L_dec)\n",
        "    att_scores = torch.bmm(Values.transpose(1, 2), att_mat) # (B, L_dec, I)\n",
        "    att_scores = att_scores.reshape(B, self.num_heads, L_dec, self.inner_features)\n",
        "    att_scores = att_scores.transpose(1, 2)\n",
        "    att_scores = att_scores.reshape(B, L_dec, -1)\n",
        "    return self.Linear(att_scores)"
      ],
      "execution_count": 23,
      "outputs": []
    },
    {
      "cell_type": "code",
      "metadata": {
        "id": "rq8zKI92nN_c"
      },
      "source": [
        "class MultiHeadAttention(nn.Module):\n",
        "  '''\n",
        "  Computes MultiHeadAttention\n",
        "  '''\n",
        "  def __init__(self, in_features, inner_features, num_heads):\n",
        "    super().__init__()\n",
        "    self.in_features = in_features\n",
        "    self.inner_features = inner_features\n",
        "    self.num_heads = num_heads\n",
        "    \n",
        "    self.K = nn.Linear(self.in_features, self.inner_features * self.num_heads)\n",
        "    self.V = nn.Linear(self.in_features, self.inner_features * self.num_heads)\n",
        "    self.Q = nn.Linear(self.in_features, self.inner_features * self.num_heads)\n",
        "    self.Linear = nn.Linear(self.inner_features * self.num_heads, self.in_features)\n",
        "  def forward(self, x):\n",
        "    '''\n",
        "    x: Tensor(B, L, C)\n",
        "    '''\n",
        "    B, L, _ = x.shape\n",
        "    Keys = self.K(x) # (B, L, HI)\n",
        "    Values = self.V(x)\n",
        "    Queries = self.Q(x) # (B, L, HI)\n",
        "\n",
        "    Keys = Keys.reshape(B, L, self.num_heads, self.inner_features)\n",
        "    Values = Values.reshape(B, L, self.num_heads, self.inner_features)\n",
        "    Queries = Queries.reshape(B, L, self.num_heads, self.inner_features)\n",
        "\n",
        "    Keys = Keys.transpose(1, 2) \n",
        "    Values = Values.transpose(1, 2)\n",
        "    Queries = Queries.transpose(1, 2)\n",
        "\n",
        "    Keys = Keys.reshape(B * self.num_heads, L, self.inner_features)\n",
        "    Values = Values.reshape(B * self.num_heads, L, self.inner_features)\n",
        "    Queries = Queries.reshape(B * self.num_heads, L, self.inner_features)\n",
        "\n",
        "    att_mat = F.softmax(torch.bmm(Keys, Values.transpose(1, 2)) / math.sqrt(self.inner_features))\n",
        "    att_scores = torch.bmm(att_mat, Queries) # (BH, L, I)\n",
        "\n",
        "    att_scores = att_scores.reshape(B, self.num_heads, L, self.inner_features)\n",
        "    att_scores = att_scores.transpose(1, 2)\n",
        "    att_scores = att_scores.reshape(B, L, -1)\n",
        "    return self.Linear(att_scores)"
      ],
      "execution_count": 24,
      "outputs": []
    },
    {
      "cell_type": "code",
      "metadata": {
        "id": "PehTI7afn2_U"
      },
      "source": [
        "class QAEncoder(nn.Module):\n",
        "  '''\n",
        "  One QA Net Encoder Module\n",
        "  '''\n",
        "  def __init__(self, in_dim, inner_dim, num_heads, device):\n",
        "    super().__init__()\n",
        "    self.device = device\n",
        "    self.in_dim = in_dim\n",
        "    self.inner_dim = inner_dim\n",
        "    self.num_heads = num_heads\n",
        "\n",
        "    self.MAH = MultiHeadAttention(self.in_dim, self.inner_dim, self.num_heads)\n",
        "    self.MAHNorm = nn.GroupNorm(1, self.in_dim) # Equivalent to LayerNorm\n",
        "\n",
        "    self.Linear = nn.Linear(self.in_dim, self.in_dim)\n",
        "    self.LinearNorm = nn.GroupNorm(1, self.in_dim)\n",
        "  \n",
        "  def forward(self, x):\n",
        "    '''\n",
        "    x: Tensor(B, L, C)\n",
        "    '''\n",
        "    pos_enc = self.add_pos_enc(x)\n",
        "\n",
        "    attended = self.MAH(self.MAHNorm(pos_enc.transpose(1, 2)).transpose(1, 2)) + pos_enc\n",
        "\n",
        "    linear = self.Linear(self.LinearNorm(attended.transpose(1, 2)).transpose(1, 2)) + attended\n",
        "    return linear\n",
        "  def add_pos_enc(self, x):\n",
        "    '''\n",
        "    Inserts positional encodings into the features(sinusoidal functions)\n",
        "    x: Tensor(B, L, C)\n",
        "    '''\n",
        "    B, L, C = x.shape\n",
        "    pos_enc = torch.zeros((L, C), device = self.device) \n",
        "    for pos in range(L):\n",
        "      for i in range(0, C, 2):\n",
        "        pos_enc[pos,i] = math.sin(pos / 10000 ** (2 * i / self.in_dim))\n",
        "        pos_enc[pos, i + 1] = math.cos(pos / 10000 ** (2 * (i + 1) / self.in_dim))\n",
        "    batched_pos= []\n",
        "    for b in range(B):\n",
        "      batched_pos += [pos_enc]\n",
        "    batched_pos = torch.stack(batched_pos)\n",
        "    return batched_pos + x"
      ],
      "execution_count": 25,
      "outputs": []
    },
    {
      "cell_type": "code",
      "metadata": {
        "id": "8iGiLeRVubOL"
      },
      "source": [
        "class QADecoder(nn.Module):\n",
        "  def __init__(self, in_features, inner_features, num_heads, device):\n",
        "    super().__init__()\n",
        "    self.device = device\n",
        "    self.in_features = in_features\n",
        "    self.inner_features = inner_features\n",
        "\n",
        "    self.num_heads = num_heads\n",
        "\n",
        "    self.MHA = MultiHeadAttention(self.in_features, self.inner_features, self.num_heads)\n",
        "    self.MHANorm = nn.GroupNorm(1, self.in_features)\n",
        "\n",
        "    self.DecoderAtt = EncoderDecoderAttention(self.in_features, self.inner_features, self.num_heads)\n",
        "    self.DecoderNorm = nn.GroupNorm(1, self.in_features)\n",
        "    \n",
        "    self.Linear = nn.Linear(self.in_features, self.in_features)\n",
        "    self.LinearNorm = nn.GroupNorm(1, self.in_features)\n",
        "  def forward(self, decoder, encoder):\n",
        "    decoder = self.add_positional_encodings(decoder)\n",
        "    attended_decoder = self.MHA(self.MHANorm(decoder.transpose(1, 2)).transpose(1, 2)) + decoder\n",
        "    attended = self.DecoderAtt(encoder, self.DecoderNorm(attended_decoder.transpose(1, 2)).transpose(1, 2)) + attended_decoder\n",
        "    linear = self.Linear(self.LinearNorm(attended.transpose(1, 2)).transpose(1, 2)) + attended\n",
        "    return linear\n",
        "  def add_positional_encodings(self, decoder):\n",
        "    '''\n",
        "    decoder: Tensor(B, L, C)\n",
        "    '''\n",
        "    B, L, C = decoder.shape\n",
        "    position_enc = torch.zeros((L, C), device = self.device)\n",
        "    for pos in range(L):\n",
        "      for i in range(0, C, 2):\n",
        "        position_enc[pos, i] = math.sin(pos / 10000 ** (2 * i / self.inner_features))\n",
        "        position_enc[pos, i + 1] = math.cos(pos / 10000 ** (2 * (i + 1) / self.inner_features))\n",
        "    batched = []\n",
        "    for b in range(B):\n",
        "      batched += [position_enc]\n",
        "    return torch.stack(batched) + decoder"
      ],
      "execution_count": 26,
      "outputs": []
    },
    {
      "cell_type": "markdown",
      "metadata": {
        "id": "5q_gjaCM1ZjI"
      },
      "source": [
        "Model Blocks"
      ]
    },
    {
      "cell_type": "code",
      "metadata": {
        "id": "LSZL2hNP1Y5A"
      },
      "source": [
        "class Tokenizer(nn.Module):\n",
        "  def __init__(self, model_name):\n",
        "    super().__init__()\n",
        "    self.model_name = model_name\n",
        "    self.tokenizer = transformers.AutoTokenizer.from_pretrained(self.model_name)\n",
        "    self.num_words = self.tokenizer.vocab_size\n",
        "    self.START = self.tokenizer.cls_token\n",
        "    self.END = self.tokenizer.sep_token\n",
        "    self.START_ID = self.tokenizer.cls_token_id\n",
        "    self.END_ID = self.tokenizer.sep_token_id \n",
        "    self.max_length = 40\n",
        "  def forward(self, x):\n",
        "    '''\n",
        "    Tokenizes sentences using HuggingFace \n",
        "    '''\n",
        "    tokenized_sentences = self.tokenizer(x, add_special_tokens = True, padding = 'max_length', truncation = True, max_length = self.max_length, return_tensors = 'pt')\n",
        "    return tokenized_sentences"
      ],
      "execution_count": 27,
      "outputs": []
    },
    {
      "cell_type": "code",
      "metadata": {
        "id": "l5ZOMqNduVPC"
      },
      "source": [
        "class QANet(nn.Module):\n",
        "  def __init__(self, in_dim, device):\n",
        "    super().__init__()\n",
        "    # Tokenizer \n",
        "    self.in_dim = in_dim\n",
        "    self.model_name = 'distilbert-base-uncased'\n",
        "    self.tokenizer = Tokenizer(self.model_name)\n",
        "    self.num_classes = self.tokenizer.tokenizer.vocab_size\n",
        "    self.device = device\n",
        "    # HYPER PARAMETERS\n",
        "    \n",
        "    self.inner_dim = self.in_dim // 4\n",
        "    self.num_att_heads = 2\n",
        "\n",
        "    self.num_im_encoder = 1\n",
        "    self.num_encoder = 2\n",
        "    self.num_decoder = 3\n",
        "    # Embeddings\n",
        "    self.Embeddings = nn.Embedding(self.num_classes, self.in_dim)\n",
        "    # Encoder\n",
        "    self.image_encoder = nn.Sequential(*[\n",
        "      QAEncoder(self.in_dim, self.inner_dim, self.num_att_heads, self.device) for i in range(self.num_im_encoder)\n",
        "    ])\n",
        "    self.encoder = nn.Sequential(*[\n",
        "      QAEncoder(self.in_dim, self.inner_dim, self.num_att_heads, self.device) for i in range(self.num_encoder)\n",
        "    ])\n",
        "    # Decoder\n",
        "    self.decoder = nn.ModuleList([\n",
        "      QADecoder(self.in_dim, self.inner_dim, self.num_att_heads, self.device) for i in range(self.num_decoder)\n",
        "    ])\n",
        "    # Dense Decoder\n",
        "    self.linear = nn.Linear(self.in_dim, self.num_classes)\n",
        "\n",
        "    self.criterion = nn.CrossEntropyLoss()\n",
        "  def forward_train(self, x, GT):\n",
        "    '''\n",
        "    x: Tensor(B, L, C), the encoded image features\n",
        "    GT: List of Sentences\n",
        "    Returns Loss\n",
        "    '''\n",
        "    tokenized_GT = self.tokenizer(GT) # (B, L)\n",
        "    GT_input_ids = tokenized_GT['input_ids'].to(self.device)\n",
        "    GT_attention_mask = tokenized_GT['attention_mask'].to(self.device)\n",
        "    B, L = GT_input_ids.shape\n",
        "    encoded_image = self.image_encoder(x) # (B, L, C)\n",
        "    # Begin Teacher forcing.\n",
        "    total_loss = torch.zeros((1), device = self.device)\n",
        "\n",
        "    for i in range(1, L):\n",
        "      input_IDs = GT_input_ids[:, :i]\n",
        "      if len(input_IDs.shape) == 1:\n",
        "        input_IDs = input_IDs.unsqueeze(-1)\n",
        "      # Encode using Embeddings\n",
        "      encodings = self.Embeddings(input_IDs)\n",
        "      # Process with Custom Encoder Layers\n",
        "      encodings = self.encoder(encodings)\n",
        "      # Encode using custom QA Encoders \n",
        "      for decoder in self.decoder:\n",
        "        encodings = decoder(encodings, encoded_image) # (B, L, 768)\n",
        "      # Average Logits\n",
        "      logits = torch.mean(encodings, dim = 1) # (B, 768)\n",
        "      predicted = self.linear(logits) # (B, C)\n",
        "      GT_id = GT_input_ids[:, i] # GT Targets: (B)\n",
        "\n",
        "      # Compute Loss between predicted\n",
        "      loss = self.criterion(predicted, GT_id)\n",
        "      total_loss = total_loss + loss\n",
        "    return total_loss / L\n",
        "\n",
        "  def forward(self, x, max_length = 40):\n",
        "    '''\n",
        "    x: Tensor(B, L, C), the encoded image features\n",
        "    '''\n",
        "    # Encode Image Features \n",
        "    encoded_images = self.image_encoder(x) # (B, L, C)\n",
        "    B, _, _ = encoded_images.shape\n",
        "    # Create Starter Tokens \n",
        "    sentences = [self.tokenizer.START for i in range(B)]\n",
        "    # Finished Array\n",
        "    finished = [False for i in range(B)]\n",
        "    for i in tqdm.tqdm(range(max_length)):\n",
        "      tokenized = self.tokenizer(sentences)\n",
        "      # encode using hugging face\n",
        "      input_ids = tokenized['input_ids'].to(self.device)\n",
        "      encoded = self.Embeddings(input_ids)\n",
        "      # Encode using custom encoders\n",
        "      encoded = self.encoder(encoded)\n",
        "      # Decode using QADecoders\n",
        "      for decoder in self.decoder:\n",
        "        encoded = decoder(encoded, encoded_images) \n",
        "      # Average the Logits\n",
        "      logits = torch.mean(encoded, dim = 1) # (B, C)\n",
        "      # Linear Layers\n",
        "      scores = F.softmax(self.linear(logits), dim = -1) # (B, C)\n",
        "      # Argmax over scores\n",
        "      _, indices = torch.max(scores, dim = -1) # (B) \n",
        "      for b in range(B):\n",
        "        if finished[b]:\n",
        "          continue # Already Completed Sentences\n",
        "        if indices[b].item() == self.tokenizer.END_ID:\n",
        "          # Sentence Terminated\n",
        "          finished[b] = True\n",
        "          sentences[b] += f\" {self.tokenizer.tokenizer.decode(indices[b].item())}\"\n",
        "        else:\n",
        "          sentences[b] +=f\" {self.tokenizer.tokenizer.decode(indices[b].item())}\"\n",
        "    return sentences"
      ],
      "execution_count": 28,
      "outputs": []
    },
    {
      "cell_type": "code",
      "metadata": {
        "id": "Q5ihVK4MA1CF"
      },
      "source": [
        "class FullModel(nn.Module):\n",
        "  '''\n",
        "  Houses the Full Image Captioning Model, powerful, but slow. Faster Implementation using HuggingFace Transformers is below.\n",
        "  '''\n",
        "  def __init__(self, device):\n",
        "    super().__init__()\n",
        "    self.device = device\n",
        "    self.in_dim = 256\n",
        "    self.out_size = 256 \n",
        "    self.image_encoder = ImageEncoder(self.in_dim, self.out_size, self.device)\n",
        "    self.QANet = QANet(self.in_dim, self.device)\n",
        "  def forward_train(self, images, captioning):\n",
        "    image_encoded = self.image_encoder(images)\n",
        "    return self.QANet.forward_train(image_encoded, captioning)\n",
        "  def forward(self, images):\n",
        "    image_encoded = self.image_encoder(images)\n",
        "    return self.QANet(image_encoded)"
      ],
      "execution_count": 29,
      "outputs": []
    },
    {
      "cell_type": "markdown",
      "metadata": {
        "id": "NnrHalJWyLv_"
      },
      "source": [
        "# Custom Training Loop:"
      ]
    },
    {
      "cell_type": "code",
      "metadata": {
        "id": "tsfkEklBuWlP"
      },
      "source": [
        "class ImageCaptioningSolver(nn.Module):\n",
        "  def __init__(self, device):\n",
        "    super().__init__()\n",
        "    self.device = device\n",
        "    self.model = FullModel(self.device)\n",
        "    self.optim = optim.Adam(self.model.parameters(), lr= 5e-4, weight_decay = 1e-4)\n",
        "    self.decay = optim.lr_scheduler.StepLR(self.optim, 5, 0.9)\n",
        "    self.decay2 = optim.lr_scheduler.CosineAnnealingLR(self.optim, 5, eta_min = 1e-7)\n",
        "  def forward(self, x):\n",
        "    self.eval()\n",
        "    with torch.no_grad():\n",
        "      return self.model(x)\n",
        "  def evaluate(self, valloader):\n",
        "    '''\n",
        "    Evaluates the Model's BLEU score.\n",
        "    '''\n",
        "    self.eval()\n",
        "    with torch.no_grad():\n",
        "      total_bleu = 0\n",
        "      count = 0\n",
        "      for images, labels in tqdm.tqdm(valloader):\n",
        "        predicted = self.model(images)\n",
        "        bleu = nltk.translate.bleu_score.corpus_bleu(labels, predicted)\n",
        "        total_bleu += bleu\n",
        "        count += 1\n",
        "        del images\n",
        "        del labels\n",
        "        del predicted\n",
        "        torch.cuda.empty_cache()\n",
        "    return total_bleu / count\n",
        "  def training_loop(self, trainloader, valloader, NUM_EPOCHS, display_every = 64):\n",
        "    liveloss = livelossplot.PlotLosses()\n",
        "    best_val_bleu  = 0\n",
        "    best_val_loss = 999\n",
        "    for EPOCH in range(NUM_EPOCHS):\n",
        "      self.train()\n",
        "      logs = {}\n",
        "      total_loss = 0\n",
        "      count = 0\n",
        "  \n",
        "      for images, labels in trainloader:\n",
        "        self.optim.zero_grad()\n",
        "        loss = self.model.forward_train(images, labels)\n",
        "        loss.backward()\n",
        "        self.optim.step()\n",
        "        print(f\"Step: {count}, loss: {loss.item()}\")\n",
        "        total_loss += loss.item()\n",
        "        count += 1\n",
        "        del images\n",
        "        del labels\n",
        "        torch.cuda.empty_cache()\n",
        "        if count == display_every:\n",
        "          break\n",
        "      logs['loss'] = total_loss / count\n",
        "      print(f\"EPOCH: {EPOCH}, total_loss: {logs['loss']}\")\n",
        "      self.decay.step()\n",
        "      self.decay2.step()\n",
        "    \n",
        "      self.eval()\n",
        "      \n",
        "      with torch.no_grad():\n",
        "        logs['val_loss'] = 0\n",
        "        #logs['accuracy'] = 0\n",
        "        count = 0\n",
        "        for images, labels in valloader:\n",
        "          loss = self.model.forward_train(images, labels)\n",
        "          #pred_sentences = self.model(images)\n",
        "          # Compute BLEU between GT and Predicted sentences\n",
        "          #bleu = nltk.translate.bleu_score.corpus_bleu(labels, pred_sentences)\n",
        "          logs['val_loss'] += loss.item()\n",
        "          #logs['accuracy'] += bleu\n",
        "          count += 1\n",
        "          del images\n",
        "          del labels\n",
        "          torch.cuda.empty_cache()\n",
        "      \n",
        "      liveloss.update(logs)\n",
        "      liveloss.send()\n",
        "      '''\n",
        "      if logs['val_loss'] < best_val_loss:\n",
        "        best_val_loss = logs['val_loss']\n",
        "        torch.save(self.model.state_dict(), \"./BestVal.pth\")\n",
        "      if logs['accuracy'] > best_val_bleu:\n",
        "        best_val_bleu = logs['accuracy']\n",
        "        torch.save(self.model.state_dict(), \"./BestAcc.pth\")\n",
        "      print(f\"EPOCH: {EPOCH}, train_loss: {logs['loss']}, val_loss: {logs['val_loss']}, val_accuracy: {logs['accuracy']}\")\n",
        "      '''"
      ],
      "execution_count": 30,
      "outputs": []
    },
    {
      "cell_type": "code",
      "metadata": {
        "id": "2yzM1bXRyohy"
      },
      "source": [
        "%%capture \n",
        "solver = ImageCaptioningSolver(device)\n",
        "solver.to(device)"
      ],
      "execution_count": 31,
      "outputs": []
    },
    {
      "cell_type": "code",
      "metadata": {
        "id": "Xf7pT4FGAn2Z",
        "colab": {
          "base_uri": "https://localhost:8080/",
          "height": 770
        },
        "outputId": "925cebd0-50da-4103-f7ec-6e3e6ad605bf"
      },
      "source": [
        "solver.training_loop(TrainDataloader, ValDataloader, 20)"
      ],
      "execution_count": null,
      "outputs": [
        {
          "output_type": "display_data",
          "data": {
            "image/png": "[encoded data removed]",
            "text/plain": [
              "<Figure size 864x576 with 2 Axes>"
            ]
          },
          "metadata": {
            "tags": [],
            "needs_background": "light"
          }
        },
        {
          "output_type": "stream",
          "text": [
            "Loss\n",
            "\ttraining         \t (min:    2.295, max:    3.749, cur:    2.304)\n",
            "\tvalidation       \t (min:    2.876, max:    3.241, cur:    2.881)\n",
            "Step: 0, loss: 2.413353681564331\n",
            "Step: 1, loss: 2.4330203533172607\n",
            "Step: 2, loss: 2.351206064224243\n",
            "Step: 3, loss: 2.3386082649230957\n",
            "Step: 4, loss: 2.4527840614318848\n",
            "Step: 5, loss: 1.8198908567428589\n",
            "Step: 6, loss: 2.1196682453155518\n",
            "Step: 7, loss: 2.1131539344787598\n"
          ],
          "name": "stdout"
        }
      ]
    },
    {
      "cell_type": "code",
      "metadata": {
        "id": "4rZGycubCctM"
      },
      "source": [
        "from google.colab import files\n",
        "torch.save(solver.state_dict(), \"./model.pth\")\n",
        "files.download(\"./model.pth\")"
      ],
      "execution_count": null,
      "outputs": []
    }
  ]
}