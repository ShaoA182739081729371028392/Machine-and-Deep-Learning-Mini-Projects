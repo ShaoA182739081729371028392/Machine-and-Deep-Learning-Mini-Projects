{
  "nbformat": 4,
  "nbformat_minor": 0,
  "metadata": {
    "colab": {
      "name": "Fashion MNIST in TensorFlow",
      "provenance": []
    },
    "kernelspec": {
      "name": "python3",
      "display_name": "Python 3"
    },
    "accelerator": "GPU"
  },
  "cells": [
    {
      "cell_type": "markdown",
      "metadata": {
        "id": "IcLBypQbyN8h"
      },
      "source": [
        "This Notebook will dive into one of the simplest challenges in CV, Fashion MNIST.\n",
        "It will use Keras and TensorFlow to do so."
      ]
    },
    {
      "cell_type": "markdown",
      "metadata": {
        "id": "gTDNu_IYyTeF"
      },
      "source": [
        "# Import Dependencies"
      ]
    },
    {
      "cell_type": "code",
      "metadata": {
        "id": "4h3Lh_HRyLxQ"
      },
      "source": [
        "# Load in TensorFlow and Keras\n",
        "import tensorflow as tf\n",
        "import keras"
      ],
      "execution_count": 1,
      "outputs": []
    },
    {
      "cell_type": "code",
      "metadata": {
        "id": "9lcU9MwCyaNQ"
      },
      "source": [
        "(train_img, train_GT), (test_img, test_GT) = keras.datasets.fashion_mnist.load_data()"
      ],
      "execution_count": null,
      "outputs": []
    },
    {
      "cell_type": "code",
      "metadata": {
        "id": "NqM-gk93IKiK"
      },
      "source": [
        "train_img, val_img = tf.split(train_img, (59872, 128))"
      ],
      "execution_count": 16,
      "outputs": []
    },
    {
      "cell_type": "code",
      "metadata": {
        "id": "xNmdv8KgIkqS"
      },
      "source": [
        "train_GT, val_GT = tf.split(train_GT, (59872, 128))"
      ],
      "execution_count": 18,
      "outputs": []
    },
    {
      "cell_type": "markdown",
      "metadata": {
        "id": "ERKaeUFk6Owk"
      },
      "source": [
        "Simple MLP in Keras"
      ]
    },
    {
      "cell_type": "code",
      "metadata": {
        "id": "5YAFLMUi3Q7x"
      },
      "source": [
        "model = keras.Sequential(layers = [\r\n",
        "    keras.layers.Reshape((28, 28, 1), input_shape = (28, 28)),\r\n",
        "    keras.layers.Conv2D(64, 3, activation = 'relu', padding = 'same'),\r\n",
        "    keras.layers.BatchNormalization(),\r\n",
        "    keras.layers.Conv2D(256, 3, activation = 'relu', padding = 'same'),\r\n",
        "    keras.layers.BatchNormalization(),\r\n",
        "    keras.layers.MaxPool2D(),\r\n",
        "    keras.layers.Conv2D(512, 3, activation = 'relu', padding = 'same'),\r\n",
        "    keras.layers.BatchNormalization(),\r\n",
        "    keras.layers.MaxPool2D(),\r\n",
        "    keras.layers.Conv2D(1024, 3, activation='relu', padding = 'same'),\r\n",
        "    keras.layers.BatchNormalization(),\r\n",
        "    keras.layers.AvgPool2D(pool_size=7, padding = 'valid'),\r\n",
        "    keras.layers.Flatten(),\r\n",
        "    keras.layers.Dense(10, activation = 'softmax')\r\n",
        "])"
      ],
      "execution_count": 19,
      "outputs": []
    },
    {
      "cell_type": "markdown",
      "metadata": {
        "id": "Jj0T7A-tGVoY"
      },
      "source": [
        "Creating a CallBack in TensorFlow"
      ]
    },
    {
      "cell_type": "code",
      "metadata": {
        "id": "wK3glPw3GXqp"
      },
      "source": [
        "class EarlyStopping(keras.callbacks.Callback):\r\n",
        "  def on_epoch_end(self, epoch, logs = {}):\r\n",
        "    if not hasattr(self, 'best_val_acc'):\r\n",
        "      self.best_val_acc = logs['val_accuracy']\r\n",
        "      self.fails = 0\r\n",
        "    else:\r\n",
        "      if logs['val_accuracy'] > self.best_val_acc:\r\n",
        "        self.best_val_acc = logs['val_accuracy']\r\n",
        "        self.fails = 0\r\n",
        "      else:\r\n",
        "        self.fails+= 1\r\n",
        "        if self.fails == 5:\r\n",
        "          self.model.stop_training = True"
      ],
      "execution_count": 41,
      "outputs": []
    },
    {
      "cell_type": "code",
      "metadata": {
        "id": "a5tXZ5NP3Ta8"
      },
      "source": [
        "model.compile(optimizer = keras.optimizers.Adam(), loss = keras.losses.SparseCategoricalCrossentropy(), metrics = ['accuracy'])"
      ],
      "execution_count": 42,
      "outputs": []
    },
    {
      "cell_type": "code",
      "metadata": {
        "id": "qjg3Is828d9N"
      },
      "source": [
        "model.fit(train_img, train_GT, batch_size = 2048, epochs = 10, validation_data = (val_img, val_GT), callbacks= [EarlyStopping()])"
      ],
      "execution_count": null,
      "outputs": []
    },
    {
      "cell_type": "code",
      "metadata": {
        "id": "6sUKfbN68kPm"
      },
      "source": [
        "model.evaluate(test_img, test_GT)"
      ],
      "execution_count": null,
      "outputs": []
    }
  ]
}