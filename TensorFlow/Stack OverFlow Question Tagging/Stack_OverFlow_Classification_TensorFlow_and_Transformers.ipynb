{
  "nbformat": 4,
  "nbformat_minor": 0,
  "metadata": {
    "accelerator": "TPU",
    "colab": {
      "name": "Stack OverFlow Classification - TensorFlow and Transformers",
      "provenance": [],
      "collapsed_sections": []
    },
    "kernelspec": {
      "display_name": "Python 3",
      "name": "python3"
    },
    "widgets": {
      "application/vnd.jupyter.widget-state+json": {
        "3f00b05eb879411085c30dff7fa24709": {
          "model_module": "@jupyter-widgets/controls",
          "model_name": "HBoxModel",
          "state": {
            "_dom_classes": [],
            "_model_module": "@jupyter-widgets/controls",
            "_model_module_version": "1.5.0",
            "_model_name": "HBoxModel",
            "_view_count": null,
            "_view_module": "@jupyter-widgets/controls",
            "_view_module_version": "1.5.0",
            "_view_name": "HBoxView",
            "box_style": "",
            "children": [
              "IPY_MODEL_fac7b03cd2854893a77282188b226f07",
              "IPY_MODEL_d35bfb17d7324269b116ddb0bd616c5a"
            ],
            "layout": "IPY_MODEL_5a46a2296db64db5a3d3b96f3f8fc81f"
          }
        },
        "fac7b03cd2854893a77282188b226f07": {
          "model_module": "@jupyter-widgets/controls",
          "model_name": "FloatProgressModel",
          "state": {
            "_dom_classes": [],
            "_model_module": "@jupyter-widgets/controls",
            "_model_module_version": "1.5.0",
            "_model_name": "FloatProgressModel",
            "_view_count": null,
            "_view_module": "@jupyter-widgets/controls",
            "_view_module_version": "1.5.0",
            "_view_name": "ProgressView",
            "bar_style": "success",
            "description": "100%",
            "description_tooltip": null,
            "layout": "IPY_MODEL_3e7d351308c34549b8cf92e877cd8249",
            "max": 15000,
            "min": 0,
            "orientation": "horizontal",
            "style": "IPY_MODEL_a3fc03d43c7844a6bb17e84f0333fd9f",
            "value": 15000
          }
        },
        "d35bfb17d7324269b116ddb0bd616c5a": {
          "model_module": "@jupyter-widgets/controls",
          "model_name": "HTMLModel",
          "state": {
            "_dom_classes": [],
            "_model_module": "@jupyter-widgets/controls",
            "_model_module_version": "1.5.0",
            "_model_name": "HTMLModel",
            "_view_count": null,
            "_view_module": "@jupyter-widgets/controls",
            "_view_module_version": "1.5.0",
            "_view_name": "HTMLView",
            "description": "",
            "description_tooltip": null,
            "layout": "IPY_MODEL_5e94cb8dc25547a1bdd451782bc0fbda",
            "placeholder": "​",
            "style": "IPY_MODEL_4ecf9dc02e214de881bb3b9358f2e7df",
            "value": " 15000/15000 [00:00&lt;00:00, 43805.08it/s]"
          }
        },
        "5a46a2296db64db5a3d3b96f3f8fc81f": {
          "model_module": "@jupyter-widgets/base",
          "model_name": "LayoutModel",
          "state": {
            "_model_module": "@jupyter-widgets/base",
            "_model_module_version": "1.2.0",
            "_model_name": "LayoutModel",
            "_view_count": null,
            "_view_module": "@jupyter-widgets/base",
            "_view_module_version": "1.2.0",
            "_view_name": "LayoutView",
            "align_content": null,
            "align_items": null,
            "align_self": null,
            "border": null,
            "bottom": null,
            "display": null,
            "flex": null,
            "flex_flow": null,
            "grid_area": null,
            "grid_auto_columns": null,
            "grid_auto_flow": null,
            "grid_auto_rows": null,
            "grid_column": null,
            "grid_gap": null,
            "grid_row": null,
            "grid_template_areas": null,
            "grid_template_columns": null,
            "grid_template_rows": null,
            "height": null,
            "justify_content": null,
            "justify_items": null,
            "left": null,
            "margin": null,
            "max_height": null,
            "max_width": null,
            "min_height": null,
            "min_width": null,
            "object_fit": null,
            "object_position": null,
            "order": null,
            "overflow": null,
            "overflow_x": null,
            "overflow_y": null,
            "padding": null,
            "right": null,
            "top": null,
            "visibility": null,
            "width": null
          }
        },
        "3e7d351308c34549b8cf92e877cd8249": {
          "model_module": "@jupyter-widgets/base",
          "model_name": "LayoutModel",
          "state": {
            "_model_module": "@jupyter-widgets/base",
            "_model_module_version": "1.2.0",
            "_model_name": "LayoutModel",
            "_view_count": null,
            "_view_module": "@jupyter-widgets/base",
            "_view_module_version": "1.2.0",
            "_view_name": "LayoutView",
            "align_content": null,
            "align_items": null,
            "align_self": null,
            "border": null,
            "bottom": null,
            "display": null,
            "flex": null,
            "flex_flow": null,
            "grid_area": null,
            "grid_auto_columns": null,
            "grid_auto_flow": null,
            "grid_auto_rows": null,
            "grid_column": null,
            "grid_gap": null,
            "grid_row": null,
            "grid_template_areas": null,
            "grid_template_columns": null,
            "grid_template_rows": null,
            "height": null,
            "justify_content": null,
            "justify_items": null,
            "left": null,
            "margin": null,
            "max_height": null,
            "max_width": null,
            "min_height": null,
            "min_width": null,
            "object_fit": null,
            "object_position": null,
            "order": null,
            "overflow": null,
            "overflow_x": null,
            "overflow_y": null,
            "padding": null,
            "right": null,
            "top": null,
            "visibility": null,
            "width": null
          }
        },
        "a3fc03d43c7844a6bb17e84f0333fd9f": {
          "model_module": "@jupyter-widgets/controls",
          "model_name": "ProgressStyleModel",
          "state": {
            "_model_module": "@jupyter-widgets/controls",
            "_model_module_version": "1.5.0",
            "_model_name": "ProgressStyleModel",
            "_view_count": null,
            "_view_module": "@jupyter-widgets/base",
            "_view_module_version": "1.2.0",
            "_view_name": "StyleView",
            "bar_color": null,
            "description_width": "initial"
          }
        },
        "5e94cb8dc25547a1bdd451782bc0fbda": {
          "model_module": "@jupyter-widgets/base",
          "model_name": "LayoutModel",
          "state": {
            "_model_module": "@jupyter-widgets/base",
            "_model_module_version": "1.2.0",
            "_model_name": "LayoutModel",
            "_view_count": null,
            "_view_module": "@jupyter-widgets/base",
            "_view_module_version": "1.2.0",
            "_view_name": "LayoutView",
            "align_content": null,
            "align_items": null,
            "align_self": null,
            "border": null,
            "bottom": null,
            "display": null,
            "flex": null,
            "flex_flow": null,
            "grid_area": null,
            "grid_auto_columns": null,
            "grid_auto_flow": null,
            "grid_auto_rows": null,
            "grid_column": null,
            "grid_gap": null,
            "grid_row": null,
            "grid_template_areas": null,
            "grid_template_columns": null,
            "grid_template_rows": null,
            "height": null,
            "justify_content": null,
            "justify_items": null,
            "left": null,
            "margin": null,
            "max_height": null,
            "max_width": null,
            "min_height": null,
            "min_width": null,
            "object_fit": null,
            "object_position": null,
            "order": null,
            "overflow": null,
            "overflow_x": null,
            "overflow_y": null,
            "padding": null,
            "right": null,
            "top": null,
            "visibility": null,
            "width": null
          }
        },
        "4ecf9dc02e214de881bb3b9358f2e7df": {
          "model_module": "@jupyter-widgets/controls",
          "model_name": "DescriptionStyleModel",
          "state": {
            "_model_module": "@jupyter-widgets/controls",
            "_model_module_version": "1.5.0",
            "_model_name": "DescriptionStyleModel",
            "_view_count": null,
            "_view_module": "@jupyter-widgets/base",
            "_view_module_version": "1.2.0",
            "_view_name": "StyleView",
            "description_width": ""
          }
        },
        "002ee45568ce4e6b8a6420ac428300b7": {
          "model_module": "@jupyter-widgets/controls",
          "model_name": "HBoxModel",
          "state": {
            "_dom_classes": [],
            "_model_module": "@jupyter-widgets/controls",
            "_model_module_version": "1.5.0",
            "_model_name": "HBoxModel",
            "_view_count": null,
            "_view_module": "@jupyter-widgets/controls",
            "_view_module_version": "1.5.0",
            "_view_name": "HBoxView",
            "box_style": "",
            "children": [
              "IPY_MODEL_1a46caf6229246ae908c73fa5753d28d",
              "IPY_MODEL_46aa307d80f744a2a87514632fc2421a"
            ],
            "layout": "IPY_MODEL_ffd24956aee64670a00a388d504c2f6c"
          }
        },
        "1a46caf6229246ae908c73fa5753d28d": {
          "model_module": "@jupyter-widgets/controls",
          "model_name": "FloatProgressModel",
          "state": {
            "_dom_classes": [],
            "_model_module": "@jupyter-widgets/controls",
            "_model_module_version": "1.5.0",
            "_model_name": "FloatProgressModel",
            "_view_count": null,
            "_view_module": "@jupyter-widgets/controls",
            "_view_module_version": "1.5.0",
            "_view_name": "ProgressView",
            "bar_style": "success",
            "description": "100%",
            "description_tooltip": null,
            "layout": "IPY_MODEL_4f318b40625b48c997f00e328f2ebfb3",
            "max": 15000,
            "min": 0,
            "orientation": "horizontal",
            "style": "IPY_MODEL_96e8f76fdfdf48c48246405a25fb0b5e",
            "value": 15000
          }
        },
        "46aa307d80f744a2a87514632fc2421a": {
          "model_module": "@jupyter-widgets/controls",
          "model_name": "HTMLModel",
          "state": {
            "_dom_classes": [],
            "_model_module": "@jupyter-widgets/controls",
            "_model_module_version": "1.5.0",
            "_model_name": "HTMLModel",
            "_view_count": null,
            "_view_module": "@jupyter-widgets/controls",
            "_view_module_version": "1.5.0",
            "_view_name": "HTMLView",
            "description": "",
            "description_tooltip": null,
            "layout": "IPY_MODEL_bc09d900f4fe48f883d8f4b4ff5f0082",
            "placeholder": "​",
            "style": "IPY_MODEL_5ac23183035b48cf9216ab8714c8b290",
            "value": " 15000/15000 [01:09&lt;00:00, 217.27it/s]"
          }
        },
        "ffd24956aee64670a00a388d504c2f6c": {
          "model_module": "@jupyter-widgets/base",
          "model_name": "LayoutModel",
          "state": {
            "_model_module": "@jupyter-widgets/base",
            "_model_module_version": "1.2.0",
            "_model_name": "LayoutModel",
            "_view_count": null,
            "_view_module": "@jupyter-widgets/base",
            "_view_module_version": "1.2.0",
            "_view_name": "LayoutView",
            "align_content": null,
            "align_items": null,
            "align_self": null,
            "border": null,
            "bottom": null,
            "display": null,
            "flex": null,
            "flex_flow": null,
            "grid_area": null,
            "grid_auto_columns": null,
            "grid_auto_flow": null,
            "grid_auto_rows": null,
            "grid_column": null,
            "grid_gap": null,
            "grid_row": null,
            "grid_template_areas": null,
            "grid_template_columns": null,
            "grid_template_rows": null,
            "height": null,
            "justify_content": null,
            "justify_items": null,
            "left": null,
            "margin": null,
            "max_height": null,
            "max_width": null,
            "min_height": null,
            "min_width": null,
            "object_fit": null,
            "object_position": null,
            "order": null,
            "overflow": null,
            "overflow_x": null,
            "overflow_y": null,
            "padding": null,
            "right": null,
            "top": null,
            "visibility": null,
            "width": null
          }
        },
        "4f318b40625b48c997f00e328f2ebfb3": {
          "model_module": "@jupyter-widgets/base",
          "model_name": "LayoutModel",
          "state": {
            "_model_module": "@jupyter-widgets/base",
            "_model_module_version": "1.2.0",
            "_model_name": "LayoutModel",
            "_view_count": null,
            "_view_module": "@jupyter-widgets/base",
            "_view_module_version": "1.2.0",
            "_view_name": "LayoutView",
            "align_content": null,
            "align_items": null,
            "align_self": null,
            "border": null,
            "bottom": null,
            "display": null,
            "flex": null,
            "flex_flow": null,
            "grid_area": null,
            "grid_auto_columns": null,
            "grid_auto_flow": null,
            "grid_auto_rows": null,
            "grid_column": null,
            "grid_gap": null,
            "grid_row": null,
            "grid_template_areas": null,
            "grid_template_columns": null,
            "grid_template_rows": null,
            "height": null,
            "justify_content": null,
            "justify_items": null,
            "left": null,
            "margin": null,
            "max_height": null,
            "max_width": null,
            "min_height": null,
            "min_width": null,
            "object_fit": null,
            "object_position": null,
            "order": null,
            "overflow": null,
            "overflow_x": null,
            "overflow_y": null,
            "padding": null,
            "right": null,
            "top": null,
            "visibility": null,
            "width": null
          }
        },
        "96e8f76fdfdf48c48246405a25fb0b5e": {
          "model_module": "@jupyter-widgets/controls",
          "model_name": "ProgressStyleModel",
          "state": {
            "_model_module": "@jupyter-widgets/controls",
            "_model_module_version": "1.5.0",
            "_model_name": "ProgressStyleModel",
            "_view_count": null,
            "_view_module": "@jupyter-widgets/base",
            "_view_module_version": "1.2.0",
            "_view_name": "StyleView",
            "bar_color": null,
            "description_width": "initial"
          }
        },
        "bc09d900f4fe48f883d8f4b4ff5f0082": {
          "model_module": "@jupyter-widgets/base",
          "model_name": "LayoutModel",
          "state": {
            "_model_module": "@jupyter-widgets/base",
            "_model_module_version": "1.2.0",
            "_model_name": "LayoutModel",
            "_view_count": null,
            "_view_module": "@jupyter-widgets/base",
            "_view_module_version": "1.2.0",
            "_view_name": "LayoutView",
            "align_content": null,
            "align_items": null,
            "align_self": null,
            "border": null,
            "bottom": null,
            "display": null,
            "flex": null,
            "flex_flow": null,
            "grid_area": null,
            "grid_auto_columns": null,
            "grid_auto_flow": null,
            "grid_auto_rows": null,
            "grid_column": null,
            "grid_gap": null,
            "grid_row": null,
            "grid_template_areas": null,
            "grid_template_columns": null,
            "grid_template_rows": null,
            "height": null,
            "justify_content": null,
            "justify_items": null,
            "left": null,
            "margin": null,
            "max_height": null,
            "max_width": null,
            "min_height": null,
            "min_width": null,
            "object_fit": null,
            "object_position": null,
            "order": null,
            "overflow": null,
            "overflow_x": null,
            "overflow_y": null,
            "padding": null,
            "right": null,
            "top": null,
            "visibility": null,
            "width": null
          }
        },
        "5ac23183035b48cf9216ab8714c8b290": {
          "model_module": "@jupyter-widgets/controls",
          "model_name": "DescriptionStyleModel",
          "state": {
            "_model_module": "@jupyter-widgets/controls",
            "_model_module_version": "1.5.0",
            "_model_name": "DescriptionStyleModel",
            "_view_count": null,
            "_view_module": "@jupyter-widgets/base",
            "_view_module_version": "1.2.0",
            "_view_name": "StyleView",
            "description_width": ""
          }
        },
        "109081e520304e11b0798a1d99040d62": {
          "model_module": "@jupyter-widgets/controls",
          "model_name": "HBoxModel",
          "state": {
            "_dom_classes": [],
            "_model_module": "@jupyter-widgets/controls",
            "_model_module_version": "1.5.0",
            "_model_name": "HBoxModel",
            "_view_count": null,
            "_view_module": "@jupyter-widgets/controls",
            "_view_module_version": "1.5.0",
            "_view_name": "HBoxView",
            "box_style": "",
            "children": [
              "IPY_MODEL_67886c857af9450f814db6335ad47319",
              "IPY_MODEL_94f87a14386744d78d140d13d0a0e068"
            ],
            "layout": "IPY_MODEL_409713d874534210b009dc4973581f74"
          }
        },
        "67886c857af9450f814db6335ad47319": {
          "model_module": "@jupyter-widgets/controls",
          "model_name": "FloatProgressModel",
          "state": {
            "_dom_classes": [],
            "_model_module": "@jupyter-widgets/controls",
            "_model_module_version": "1.5.0",
            "_model_name": "FloatProgressModel",
            "_view_count": null,
            "_view_module": "@jupyter-widgets/controls",
            "_view_module_version": "1.5.0",
            "_view_name": "ProgressView",
            "bar_style": "success",
            "description": "100%",
            "description_tooltip": null,
            "layout": "IPY_MODEL_1670f99f39d0410dbd58814660bb389b",
            "max": 12572,
            "min": 0,
            "orientation": "horizontal",
            "style": "IPY_MODEL_0693d830d72f47d88794c870f029c35f",
            "value": 12572
          }
        },
        "94f87a14386744d78d140d13d0a0e068": {
          "model_module": "@jupyter-widgets/controls",
          "model_name": "HTMLModel",
          "state": {
            "_dom_classes": [],
            "_model_module": "@jupyter-widgets/controls",
            "_model_module_version": "1.5.0",
            "_model_name": "HTMLModel",
            "_view_count": null,
            "_view_module": "@jupyter-widgets/controls",
            "_view_module_version": "1.5.0",
            "_view_name": "HTMLView",
            "description": "",
            "description_tooltip": null,
            "layout": "IPY_MODEL_44c2413fc2634b39bfb21babdb6a5f48",
            "placeholder": "​",
            "style": "IPY_MODEL_5486833697d64990b8208c6586993cad",
            "value": " 12572/12572 [01:08&lt;00:00, 184.04it/s]"
          }
        },
        "409713d874534210b009dc4973581f74": {
          "model_module": "@jupyter-widgets/base",
          "model_name": "LayoutModel",
          "state": {
            "_model_module": "@jupyter-widgets/base",
            "_model_module_version": "1.2.0",
            "_model_name": "LayoutModel",
            "_view_count": null,
            "_view_module": "@jupyter-widgets/base",
            "_view_module_version": "1.2.0",
            "_view_name": "LayoutView",
            "align_content": null,
            "align_items": null,
            "align_self": null,
            "border": null,
            "bottom": null,
            "display": null,
            "flex": null,
            "flex_flow": null,
            "grid_area": null,
            "grid_auto_columns": null,
            "grid_auto_flow": null,
            "grid_auto_rows": null,
            "grid_column": null,
            "grid_gap": null,
            "grid_row": null,
            "grid_template_areas": null,
            "grid_template_columns": null,
            "grid_template_rows": null,
            "height": null,
            "justify_content": null,
            "justify_items": null,
            "left": null,
            "margin": null,
            "max_height": null,
            "max_width": null,
            "min_height": null,
            "min_width": null,
            "object_fit": null,
            "object_position": null,
            "order": null,
            "overflow": null,
            "overflow_x": null,
            "overflow_y": null,
            "padding": null,
            "right": null,
            "top": null,
            "visibility": null,
            "width": null
          }
        },
        "1670f99f39d0410dbd58814660bb389b": {
          "model_module": "@jupyter-widgets/base",
          "model_name": "LayoutModel",
          "state": {
            "_model_module": "@jupyter-widgets/base",
            "_model_module_version": "1.2.0",
            "_model_name": "LayoutModel",
            "_view_count": null,
            "_view_module": "@jupyter-widgets/base",
            "_view_module_version": "1.2.0",
            "_view_name": "LayoutView",
            "align_content": null,
            "align_items": null,
            "align_self": null,
            "border": null,
            "bottom": null,
            "display": null,
            "flex": null,
            "flex_flow": null,
            "grid_area": null,
            "grid_auto_columns": null,
            "grid_auto_flow": null,
            "grid_auto_rows": null,
            "grid_column": null,
            "grid_gap": null,
            "grid_row": null,
            "grid_template_areas": null,
            "grid_template_columns": null,
            "grid_template_rows": null,
            "height": null,
            "justify_content": null,
            "justify_items": null,
            "left": null,
            "margin": null,
            "max_height": null,
            "max_width": null,
            "min_height": null,
            "min_width": null,
            "object_fit": null,
            "object_position": null,
            "order": null,
            "overflow": null,
            "overflow_x": null,
            "overflow_y": null,
            "padding": null,
            "right": null,
            "top": null,
            "visibility": null,
            "width": null
          }
        },
        "0693d830d72f47d88794c870f029c35f": {
          "model_module": "@jupyter-widgets/controls",
          "model_name": "ProgressStyleModel",
          "state": {
            "_model_module": "@jupyter-widgets/controls",
            "_model_module_version": "1.5.0",
            "_model_name": "ProgressStyleModel",
            "_view_count": null,
            "_view_module": "@jupyter-widgets/base",
            "_view_module_version": "1.2.0",
            "_view_name": "StyleView",
            "bar_color": null,
            "description_width": "initial"
          }
        },
        "44c2413fc2634b39bfb21babdb6a5f48": {
          "model_module": "@jupyter-widgets/base",
          "model_name": "LayoutModel",
          "state": {
            "_model_module": "@jupyter-widgets/base",
            "_model_module_version": "1.2.0",
            "_model_name": "LayoutModel",
            "_view_count": null,
            "_view_module": "@jupyter-widgets/base",
            "_view_module_version": "1.2.0",
            "_view_name": "LayoutView",
            "align_content": null,
            "align_items": null,
            "align_self": null,
            "border": null,
            "bottom": null,
            "display": null,
            "flex": null,
            "flex_flow": null,
            "grid_area": null,
            "grid_auto_columns": null,
            "grid_auto_flow": null,
            "grid_auto_rows": null,
            "grid_column": null,
            "grid_gap": null,
            "grid_row": null,
            "grid_template_areas": null,
            "grid_template_columns": null,
            "grid_template_rows": null,
            "height": null,
            "justify_content": null,
            "justify_items": null,
            "left": null,
            "margin": null,
            "max_height": null,
            "max_width": null,
            "min_height": null,
            "min_width": null,
            "object_fit": null,
            "object_position": null,
            "order": null,
            "overflow": null,
            "overflow_x": null,
            "overflow_y": null,
            "padding": null,
            "right": null,
            "top": null,
            "visibility": null,
            "width": null
          }
        },
        "5486833697d64990b8208c6586993cad": {
          "model_module": "@jupyter-widgets/controls",
          "model_name": "DescriptionStyleModel",
          "state": {
            "_model_module": "@jupyter-widgets/controls",
            "_model_module_version": "1.5.0",
            "_model_name": "DescriptionStyleModel",
            "_view_count": null,
            "_view_module": "@jupyter-widgets/base",
            "_view_module_version": "1.2.0",
            "_view_name": "StyleView",
            "description_width": ""
          }
        },
        "5e2dc6ea05904311a96f0b05e59fe82e": {
          "model_module": "@jupyter-widgets/controls",
          "model_name": "HBoxModel",
          "state": {
            "_dom_classes": [],
            "_model_module": "@jupyter-widgets/controls",
            "_model_module_version": "1.5.0",
            "_model_name": "HBoxModel",
            "_view_count": null,
            "_view_module": "@jupyter-widgets/controls",
            "_view_module_version": "1.5.0",
            "_view_name": "HBoxView",
            "box_style": "",
            "children": [
              "IPY_MODEL_375b418071c348bca5150db7565cb70c",
              "IPY_MODEL_89072bb6d3354a7c97c768b1e4a758c0"
            ],
            "layout": "IPY_MODEL_e780ace20ff2487298afa64a8f6cade7"
          }
        },
        "375b418071c348bca5150db7565cb70c": {
          "model_module": "@jupyter-widgets/controls",
          "model_name": "FloatProgressModel",
          "state": {
            "_dom_classes": [],
            "_model_module": "@jupyter-widgets/controls",
            "_model_module_version": "1.5.0",
            "_model_name": "FloatProgressModel",
            "_view_count": null,
            "_view_module": "@jupyter-widgets/controls",
            "_view_module_version": "1.5.0",
            "_view_name": "ProgressView",
            "bar_style": "success",
            "description": "100%",
            "description_tooltip": null,
            "layout": "IPY_MODEL_d87bf0e977204067a848f6d275e2cdf1",
            "max": 50,
            "min": 0,
            "orientation": "horizontal",
            "style": "IPY_MODEL_ae3c7eb8ee14414eb2fe633ea59c4f3f",
            "value": 50
          }
        },
        "89072bb6d3354a7c97c768b1e4a758c0": {
          "model_module": "@jupyter-widgets/controls",
          "model_name": "HTMLModel",
          "state": {
            "_dom_classes": [],
            "_model_module": "@jupyter-widgets/controls",
            "_model_module_version": "1.5.0",
            "_model_name": "HTMLModel",
            "_view_count": null,
            "_view_module": "@jupyter-widgets/controls",
            "_view_module_version": "1.5.0",
            "_view_name": "HTMLView",
            "description": "",
            "description_tooltip": null,
            "layout": "IPY_MODEL_8060abb684ab4a3ebc3c24e9ae10dd3d",
            "placeholder": "​",
            "style": "IPY_MODEL_6e4cfe994ec1467292cbc78f40881b55",
            "value": " 50/50 [00:00&lt;00:00, 344.74it/s]"
          }
        },
        "e780ace20ff2487298afa64a8f6cade7": {
          "model_module": "@jupyter-widgets/base",
          "model_name": "LayoutModel",
          "state": {
            "_model_module": "@jupyter-widgets/base",
            "_model_module_version": "1.2.0",
            "_model_name": "LayoutModel",
            "_view_count": null,
            "_view_module": "@jupyter-widgets/base",
            "_view_module_version": "1.2.0",
            "_view_name": "LayoutView",
            "align_content": null,
            "align_items": null,
            "align_self": null,
            "border": null,
            "bottom": null,
            "display": null,
            "flex": null,
            "flex_flow": null,
            "grid_area": null,
            "grid_auto_columns": null,
            "grid_auto_flow": null,
            "grid_auto_rows": null,
            "grid_column": null,
            "grid_gap": null,
            "grid_row": null,
            "grid_template_areas": null,
            "grid_template_columns": null,
            "grid_template_rows": null,
            "height": null,
            "justify_content": null,
            "justify_items": null,
            "left": null,
            "margin": null,
            "max_height": null,
            "max_width": null,
            "min_height": null,
            "min_width": null,
            "object_fit": null,
            "object_position": null,
            "order": null,
            "overflow": null,
            "overflow_x": null,
            "overflow_y": null,
            "padding": null,
            "right": null,
            "top": null,
            "visibility": null,
            "width": null
          }
        },
        "d87bf0e977204067a848f6d275e2cdf1": {
          "model_module": "@jupyter-widgets/base",
          "model_name": "LayoutModel",
          "state": {
            "_model_module": "@jupyter-widgets/base",
            "_model_module_version": "1.2.0",
            "_model_name": "LayoutModel",
            "_view_count": null,
            "_view_module": "@jupyter-widgets/base",
            "_view_module_version": "1.2.0",
            "_view_name": "LayoutView",
            "align_content": null,
            "align_items": null,
            "align_self": null,
            "border": null,
            "bottom": null,
            "display": null,
            "flex": null,
            "flex_flow": null,
            "grid_area": null,
            "grid_auto_columns": null,
            "grid_auto_flow": null,
            "grid_auto_rows": null,
            "grid_column": null,
            "grid_gap": null,
            "grid_row": null,
            "grid_template_areas": null,
            "grid_template_columns": null,
            "grid_template_rows": null,
            "height": null,
            "justify_content": null,
            "justify_items": null,
            "left": null,
            "margin": null,
            "max_height": null,
            "max_width": null,
            "min_height": null,
            "min_width": null,
            "object_fit": null,
            "object_position": null,
            "order": null,
            "overflow": null,
            "overflow_x": null,
            "overflow_y": null,
            "padding": null,
            "right": null,
            "top": null,
            "visibility": null,
            "width": null
          }
        },
        "ae3c7eb8ee14414eb2fe633ea59c4f3f": {
          "model_module": "@jupyter-widgets/controls",
          "model_name": "ProgressStyleModel",
          "state": {
            "_model_module": "@jupyter-widgets/controls",
            "_model_module_version": "1.5.0",
            "_model_name": "ProgressStyleModel",
            "_view_count": null,
            "_view_module": "@jupyter-widgets/base",
            "_view_module_version": "1.2.0",
            "_view_name": "StyleView",
            "bar_color": null,
            "description_width": "initial"
          }
        },
        "8060abb684ab4a3ebc3c24e9ae10dd3d": {
          "model_module": "@jupyter-widgets/base",
          "model_name": "LayoutModel",
          "state": {
            "_model_module": "@jupyter-widgets/base",
            "_model_module_version": "1.2.0",
            "_model_name": "LayoutModel",
            "_view_count": null,
            "_view_module": "@jupyter-widgets/base",
            "_view_module_version": "1.2.0",
            "_view_name": "LayoutView",
            "align_content": null,
            "align_items": null,
            "align_self": null,
            "border": null,
            "bottom": null,
            "display": null,
            "flex": null,
            "flex_flow": null,
            "grid_area": null,
            "grid_auto_columns": null,
            "grid_auto_flow": null,
            "grid_auto_rows": null,
            "grid_column": null,
            "grid_gap": null,
            "grid_row": null,
            "grid_template_areas": null,
            "grid_template_columns": null,
            "grid_template_rows": null,
            "height": null,
            "justify_content": null,
            "justify_items": null,
            "left": null,
            "margin": null,
            "max_height": null,
            "max_width": null,
            "min_height": null,
            "min_width": null,
            "object_fit": null,
            "object_position": null,
            "order": null,
            "overflow": null,
            "overflow_x": null,
            "overflow_y": null,
            "padding": null,
            "right": null,
            "top": null,
            "visibility": null,
            "width": null
          }
        },
        "6e4cfe994ec1467292cbc78f40881b55": {
          "model_module": "@jupyter-widgets/controls",
          "model_name": "DescriptionStyleModel",
          "state": {
            "_model_module": "@jupyter-widgets/controls",
            "_model_module_version": "1.5.0",
            "_model_name": "DescriptionStyleModel",
            "_view_count": null,
            "_view_module": "@jupyter-widgets/base",
            "_view_module_version": "1.2.0",
            "_view_name": "StyleView",
            "description_width": ""
          }
        },
        "e54544983f454019ab16c4ae0721ea34": {
          "model_module": "@jupyter-widgets/controls",
          "model_name": "HBoxModel",
          "state": {
            "_dom_classes": [],
            "_model_module": "@jupyter-widgets/controls",
            "_model_module_version": "1.5.0",
            "_model_name": "HBoxModel",
            "_view_count": null,
            "_view_module": "@jupyter-widgets/controls",
            "_view_module_version": "1.5.0",
            "_view_name": "HBoxView",
            "box_style": "",
            "children": [
              "IPY_MODEL_349a0838580149e9a19f817cb10e4ff6",
              "IPY_MODEL_ad233a2e141f456ba38e4d2dc2f5faab"
            ],
            "layout": "IPY_MODEL_3a9ea62040b54945a86fcd3a16c1de5d"
          }
        },
        "349a0838580149e9a19f817cb10e4ff6": {
          "model_module": "@jupyter-widgets/controls",
          "model_name": "FloatProgressModel",
          "state": {
            "_dom_classes": [],
            "_model_module": "@jupyter-widgets/controls",
            "_model_module_version": "1.5.0",
            "_model_name": "FloatProgressModel",
            "_view_count": null,
            "_view_module": "@jupyter-widgets/controls",
            "_view_module_version": "1.5.0",
            "_view_name": "ProgressView",
            "bar_style": "",
            "description": " 52%",
            "description_tooltip": null,
            "layout": "IPY_MODEL_86c6e3d829104f73845f92b2ccec363f",
            "max": 50,
            "min": 0,
            "orientation": "horizontal",
            "style": "IPY_MODEL_97c2132d1a63498cb123946f5782dedf",
            "value": 26
          }
        },
        "ad233a2e141f456ba38e4d2dc2f5faab": {
          "model_module": "@jupyter-widgets/controls",
          "model_name": "HTMLModel",
          "state": {
            "_dom_classes": [],
            "_model_module": "@jupyter-widgets/controls",
            "_model_module_version": "1.5.0",
            "_model_name": "HTMLModel",
            "_view_count": null,
            "_view_module": "@jupyter-widgets/controls",
            "_view_module_version": "1.5.0",
            "_view_name": "HTMLView",
            "description": "",
            "description_tooltip": null,
            "layout": "IPY_MODEL_5412e7e63e47443193d864d4b0d28b64",
            "placeholder": "​",
            "style": "IPY_MODEL_5be8b5790fa5463e804e73898c421ed4",
            "value": " 26/50 [08:22&lt;07:04, 17.69s/it]"
          }
        },
        "3a9ea62040b54945a86fcd3a16c1de5d": {
          "model_module": "@jupyter-widgets/base",
          "model_name": "LayoutModel",
          "state": {
            "_model_module": "@jupyter-widgets/base",
            "_model_module_version": "1.2.0",
            "_model_name": "LayoutModel",
            "_view_count": null,
            "_view_module": "@jupyter-widgets/base",
            "_view_module_version": "1.2.0",
            "_view_name": "LayoutView",
            "align_content": null,
            "align_items": null,
            "align_self": null,
            "border": null,
            "bottom": null,
            "display": null,
            "flex": null,
            "flex_flow": null,
            "grid_area": null,
            "grid_auto_columns": null,
            "grid_auto_flow": null,
            "grid_auto_rows": null,
            "grid_column": null,
            "grid_gap": null,
            "grid_row": null,
            "grid_template_areas": null,
            "grid_template_columns": null,
            "grid_template_rows": null,
            "height": null,
            "justify_content": null,
            "justify_items": null,
            "left": null,
            "margin": null,
            "max_height": null,
            "max_width": null,
            "min_height": null,
            "min_width": null,
            "object_fit": null,
            "object_position": null,
            "order": null,
            "overflow": null,
            "overflow_x": null,
            "overflow_y": null,
            "padding": null,
            "right": null,
            "top": null,
            "visibility": null,
            "width": null
          }
        },
        "86c6e3d829104f73845f92b2ccec363f": {
          "model_module": "@jupyter-widgets/base",
          "model_name": "LayoutModel",
          "state": {
            "_model_module": "@jupyter-widgets/base",
            "_model_module_version": "1.2.0",
            "_model_name": "LayoutModel",
            "_view_count": null,
            "_view_module": "@jupyter-widgets/base",
            "_view_module_version": "1.2.0",
            "_view_name": "LayoutView",
            "align_content": null,
            "align_items": null,
            "align_self": null,
            "border": null,
            "bottom": null,
            "display": null,
            "flex": null,
            "flex_flow": null,
            "grid_area": null,
            "grid_auto_columns": null,
            "grid_auto_flow": null,
            "grid_auto_rows": null,
            "grid_column": null,
            "grid_gap": null,
            "grid_row": null,
            "grid_template_areas": null,
            "grid_template_columns": null,
            "grid_template_rows": null,
            "height": null,
            "justify_content": null,
            "justify_items": null,
            "left": null,
            "margin": null,
            "max_height": null,
            "max_width": null,
            "min_height": null,
            "min_width": null,
            "object_fit": null,
            "object_position": null,
            "order": null,
            "overflow": null,
            "overflow_x": null,
            "overflow_y": null,
            "padding": null,
            "right": null,
            "top": null,
            "visibility": null,
            "width": null
          }
        },
        "97c2132d1a63498cb123946f5782dedf": {
          "model_module": "@jupyter-widgets/controls",
          "model_name": "ProgressStyleModel",
          "state": {
            "_model_module": "@jupyter-widgets/controls",
            "_model_module_version": "1.5.0",
            "_model_name": "ProgressStyleModel",
            "_view_count": null,
            "_view_module": "@jupyter-widgets/base",
            "_view_module_version": "1.2.0",
            "_view_name": "StyleView",
            "bar_color": null,
            "description_width": "initial"
          }
        },
        "5412e7e63e47443193d864d4b0d28b64": {
          "model_module": "@jupyter-widgets/base",
          "model_name": "LayoutModel",
          "state": {
            "_model_module": "@jupyter-widgets/base",
            "_model_module_version": "1.2.0",
            "_model_name": "LayoutModel",
            "_view_count": null,
            "_view_module": "@jupyter-widgets/base",
            "_view_module_version": "1.2.0",
            "_view_name": "LayoutView",
            "align_content": null,
            "align_items": null,
            "align_self": null,
            "border": null,
            "bottom": null,
            "display": null,
            "flex": null,
            "flex_flow": null,
            "grid_area": null,
            "grid_auto_columns": null,
            "grid_auto_flow": null,
            "grid_auto_rows": null,
            "grid_column": null,
            "grid_gap": null,
            "grid_row": null,
            "grid_template_areas": null,
            "grid_template_columns": null,
            "grid_template_rows": null,
            "height": null,
            "justify_content": null,
            "justify_items": null,
            "left": null,
            "margin": null,
            "max_height": null,
            "max_width": null,
            "min_height": null,
            "min_width": null,
            "object_fit": null,
            "object_position": null,
            "order": null,
            "overflow": null,
            "overflow_x": null,
            "overflow_y": null,
            "padding": null,
            "right": null,
            "top": null,
            "visibility": null,
            "width": null
          }
        },
        "5be8b5790fa5463e804e73898c421ed4": {
          "model_module": "@jupyter-widgets/controls",
          "model_name": "DescriptionStyleModel",
          "state": {
            "_model_module": "@jupyter-widgets/controls",
            "_model_module_version": "1.5.0",
            "_model_name": "DescriptionStyleModel",
            "_view_count": null,
            "_view_module": "@jupyter-widgets/base",
            "_view_module_version": "1.2.0",
            "_view_name": "StyleView",
            "description_width": ""
          }
        }
      }
    }
  },
  "cells": [
    {
      "cell_type": "markdown",
      "metadata": {
        "id": "_Yr-44rzDp2D"
      },
      "source": [
        "# Load Dependencies"
      ]
    },
    {
      "cell_type": "code",
      "metadata": {
        "id": "UcVmWdJkDktl"
      },
      "source": [
        "%%capture\r\n",
        "!pip install kaggle\r\n",
        "import tensorflow as tf\r\n",
        "import tensorflow.keras as keras\r\n",
        "from sklearn.model_selection import train_test_split\r\n",
        "import numpy as np\r\n",
        "import pandas as pd\r\n",
        "import math\r\n",
        "import copy\r\n",
        "import tqdm.notebook as tqdm\r\n",
        "import matplotlib.pyplot as plt\r\n",
        "import random\r\n",
        "import re\r\n",
        "from collections import Counter\r\n",
        "import nltk\r\n",
        "nltk.download(\"punkt\")\r\n",
        "nltk.download('stopwords')"
      ],
      "execution_count": null,
      "outputs": []
    },
    {
      "cell_type": "code",
      "metadata": {
        "id": "GCOBjx9UEAko"
      },
      "source": [
        "!mkdir /root/.kaggle/\r\n",
        "!cp -f ./kaggle.json /root/.kaggle/kaggle.json\r\n",
        "!chmod 600 /root/.kaggle/kaggle.json"
      ],
      "execution_count": null,
      "outputs": []
    },
    {
      "cell_type": "code",
      "metadata": {
        "colab": {
          "base_uri": "https://localhost:8080/"
        },
        "id": "1uQG614VDrsA",
        "outputId": "31f4ab9d-4178-4b38-c206-4d6e4b473a12"
      },
      "source": [
        "!kaggle competitions download -c facebook-recruiting-iii-keyword-extraction\r\n",
        "!rm -f SampleSubmission.csv.zip\r\n",
        "!rm -f Test.zip\r\n",
        "!unzip Train.zip\r\n",
        "!rm -f Train.zip"
      ],
      "execution_count": null,
      "outputs": [
        {
          "output_type": "stream",
          "text": [
            "Warning: Looks like you're using an outdated API Version, please consider updating (server 1.5.10 / client 1.5.4)\n",
            "Downloading SampleSubmission.csv.zip to /content\n",
            "100% 4.81M/4.81M [00:00<00:00, 30.0MB/s]\n",
            "\n",
            "Downloading Train.zip to /content\n",
            "100% 2.19G/2.19G [00:26<00:00, 38.7MB/s]\n",
            "100% 2.19G/2.19G [00:26<00:00, 89.6MB/s]\n",
            "Downloading Test.zip to /content\n",
            " 98% 707M/725M [00:18<00:00, 168MB/s]\n",
            "100% 725M/725M [00:18<00:00, 41.2MB/s]\n",
            "Archive:  Train.zip\n",
            "  inflating: Train.csv               \n"
          ],
          "name": "stdout"
        }
      ]
    },
    {
      "cell_type": "markdown",
      "metadata": {
        "id": "kkqhYw0tyUG8"
      },
      "source": [
        "# Process Data In."
      ]
    },
    {
      "cell_type": "code",
      "metadata": {
        "id": "t5rNS9sYutza"
      },
      "source": [
        "DataFrame = pd.read_csv(\"./Train.csv\", nrows = 15000)"
      ],
      "execution_count": null,
      "outputs": []
    },
    {
      "cell_type": "code",
      "metadata": {
        "id": "mIgZ3iYvycOO"
      },
      "source": [
        "titles = [title for title in DataFrame['Title']]\n",
        "tags = [tags for tags in DataFrame['Tags']]"
      ],
      "execution_count": null,
      "outputs": []
    },
    {
      "cell_type": "code",
      "metadata": {
        "id": "MYK68Fg4yzcB"
      },
      "source": [
        "def prepare_tags(sentences, list_tags, min_count):\n",
        "  '''\n",
        "  Tags: List of Sentences, we will compute the unique tags\n",
        "  To prevent way too sparse Ground Truth Values, we will impose a minimum count for how many times a tag must be mentioned to be included\n",
        "  '''\n",
        "  all_tags = [tag for sentence_tags in tqdm.tqdm(list_tags) for tag in sentence_tags.split()]\n",
        "  count_tags = Counter(all_tags)\n",
        "  all_tags = list(set(all_tags))\n",
        "  # Hash map to map tag to index\n",
        "  tags_idx = {}\n",
        "  count = 0\n",
        "  for tag in all_tags:\n",
        "    if count_tags[tag] > min_count:\n",
        "      tags_idx[tag] = count\n",
        "      count += 1\n",
        "  len_of_tags = len(tags_idx)\n",
        "  tokenized_tags = []\n",
        "  sentence_dataset = []\n",
        "  for sentence_tags_idx in tqdm.tqdm(range(len(list_tags))):\n",
        "    sentence_tags = list_tags[sentence_tags_idx]\n",
        "    token_sent = [0] * len_of_tags\n",
        "    for tag in sentence_tags.split():\n",
        "      if tag in tags_idx:\n",
        "        token_sent[tags_idx[tag]] = 1\n",
        "    count_tokens = Counter(token_sent)\n",
        "    if count_tokens[1] > 0:\n",
        "      tokenized_tags += [token_sent]\n",
        "      sentence_dataset += [sentences[sentence_tags_idx]]\n",
        "  return sentence_dataset, np.array(tokenized_tags), tags_idx"
      ],
      "execution_count": null,
      "outputs": []
    },
    {
      "cell_type": "code",
      "metadata": {
        "colab": {
          "base_uri": "https://localhost:8080/",
          "height": 114,
          "referenced_widgets": [
            "3f00b05eb879411085c30dff7fa24709",
            "fac7b03cd2854893a77282188b226f07",
            "d35bfb17d7324269b116ddb0bd616c5a",
            "5a46a2296db64db5a3d3b96f3f8fc81f",
            "3e7d351308c34549b8cf92e877cd8249",
            "a3fc03d43c7844a6bb17e84f0333fd9f",
            "5e94cb8dc25547a1bdd451782bc0fbda",
            "4ecf9dc02e214de881bb3b9358f2e7df",
            "002ee45568ce4e6b8a6420ac428300b7",
            "1a46caf6229246ae908c73fa5753d28d",
            "46aa307d80f744a2a87514632fc2421a",
            "ffd24956aee64670a00a388d504c2f6c",
            "4f318b40625b48c997f00e328f2ebfb3",
            "96e8f76fdfdf48c48246405a25fb0b5e",
            "bc09d900f4fe48f883d8f4b4ff5f0082",
            "5ac23183035b48cf9216ab8714c8b290"
          ]
        },
        "id": "OLjNWe_lZgXf",
        "outputId": "d9d92b29-f693-4fc4-dada-8c5f903c0d78"
      },
      "source": [
        "title_dataset, tag_dataset, tags_idx = prepare_tags(titles, tags, 25)\r\n",
        "num_classes = tag_dataset.shape[1]"
      ],
      "execution_count": null,
      "outputs": [
        {
          "output_type": "display_data",
          "data": {
            "application/vnd.jupyter.widget-view+json": {
              "model_id": "3f00b05eb879411085c30dff7fa24709",
              "version_major": 2,
              "version_minor": 0
            },
            "text/plain": [
              "HBox(children=(FloatProgress(value=0.0, max=15000.0), HTML(value='')))"
            ]
          },
          "metadata": {
            "tags": []
          }
        },
        {
          "output_type": "stream",
          "text": [
            "\n"
          ],
          "name": "stdout"
        },
        {
          "output_type": "display_data",
          "data": {
            "application/vnd.jupyter.widget-view+json": {
              "model_id": "002ee45568ce4e6b8a6420ac428300b7",
              "version_major": 2,
              "version_minor": 0
            },
            "text/plain": [
              "HBox(children=(FloatProgress(value=0.0, max=15000.0), HTML(value='')))"
            ]
          },
          "metadata": {
            "tags": []
          }
        },
        {
          "output_type": "stream",
          "text": [
            "\n"
          ],
          "name": "stdout"
        }
      ]
    },
    {
      "cell_type": "code",
      "metadata": {
        "id": "ttjveSuRK0jW"
      },
      "source": [
        "val_title_dataset = title_dataset[-50:]\r\n",
        "title_dataset = title_dataset[:-50]\r\n",
        "\r\n",
        "val_tag_dataset = tag_dataset[-50:]\r\n",
        "tag_dataset = tag_dataset[:-50]"
      ],
      "execution_count": null,
      "outputs": []
    },
    {
      "cell_type": "code",
      "metadata": {
        "id": "q4iQUc7obpn1"
      },
      "source": [
        "def prepare_title(title_dataset):\n",
        "  '''\n",
        "  Since code like C++ has punctutation, we only lower the tags and remove stopwords as processing\n",
        "  '''\n",
        "  stopwords = nltk.corpus.stopwords.words(\"english\")\n",
        "  tokenized_titles = [] \n",
        "  for title in tqdm.tqdm(title_dataset):\n",
        "    tokenized_title = []\n",
        "    for word in nltk.word_tokenize(title):\n",
        "      if word not in stopwords:\n",
        "        tokenized_word = re.sub(r\"[^\\w\\s]\", \"\", str.lower(word))\n",
        "        if tokenized_word != \"\":\n",
        "          tokenized_title += [tokenized_word]\n",
        "    tokenized_titles += [tokenized_title]\n",
        "  return tokenized_titles"
      ],
      "execution_count": null,
      "outputs": []
    },
    {
      "cell_type": "code",
      "metadata": {
        "colab": {
          "base_uri": "https://localhost:8080/",
          "height": 114,
          "referenced_widgets": [
            "109081e520304e11b0798a1d99040d62",
            "67886c857af9450f814db6335ad47319",
            "94f87a14386744d78d140d13d0a0e068",
            "409713d874534210b009dc4973581f74",
            "1670f99f39d0410dbd58814660bb389b",
            "0693d830d72f47d88794c870f029c35f",
            "44c2413fc2634b39bfb21babdb6a5f48",
            "5486833697d64990b8208c6586993cad",
            "5e2dc6ea05904311a96f0b05e59fe82e",
            "375b418071c348bca5150db7565cb70c",
            "89072bb6d3354a7c97c768b1e4a758c0",
            "e780ace20ff2487298afa64a8f6cade7",
            "d87bf0e977204067a848f6d275e2cdf1",
            "ae3c7eb8ee14414eb2fe633ea59c4f3f",
            "8060abb684ab4a3ebc3c24e9ae10dd3d",
            "6e4cfe994ec1467292cbc78f40881b55"
          ]
        },
        "id": "1FqjuS6Oewug",
        "outputId": "c51109c6-57d1-4691-b4a5-19be93c79d9d"
      },
      "source": [
        "tokenized_titles = prepare_title(title_dataset)\r\n",
        "tokenized_val = prepare_title(val_title_dataset)"
      ],
      "execution_count": null,
      "outputs": [
        {
          "output_type": "display_data",
          "data": {
            "application/vnd.jupyter.widget-view+json": {
              "model_id": "109081e520304e11b0798a1d99040d62",
              "version_major": 2,
              "version_minor": 0
            },
            "text/plain": [
              "HBox(children=(FloatProgress(value=0.0, max=12572.0), HTML(value='')))"
            ]
          },
          "metadata": {
            "tags": []
          }
        },
        {
          "output_type": "stream",
          "text": [
            "\n"
          ],
          "name": "stdout"
        },
        {
          "output_type": "display_data",
          "data": {
            "application/vnd.jupyter.widget-view+json": {
              "model_id": "5e2dc6ea05904311a96f0b05e59fe82e",
              "version_major": 2,
              "version_minor": 0
            },
            "text/plain": [
              "HBox(children=(FloatProgress(value=0.0, max=50.0), HTML(value='')))"
            ]
          },
          "metadata": {
            "tags": []
          }
        },
        {
          "output_type": "stream",
          "text": [
            "\n"
          ],
          "name": "stdout"
        }
      ]
    },
    {
      "cell_type": "code",
      "metadata": {
        "id": "mBPIQ4u0E6ae"
      },
      "source": [
        "class StackOverflowDataset(keras.utils.Sequence):\r\n",
        "  def __init__(self, titles, tags, batch_size):\r\n",
        "    self.titles = titles\r\n",
        "    self.tags = tags\r\n",
        "    self.batch_size = batch_size\r\n",
        "    self.cur_idx = 0\r\n",
        "  def __len__(self):\r\n",
        "    return len(self.titles) // self.batch_size\r\n",
        "  def __getitem__(self, idx):\r\n",
        "    titles = self.titles[self.cur_idx * self.batch_size: (self.cur_idx + 1) * self.batch_size]\r\n",
        "    tags = self.tags[self.cur_idx * self.batch_size: (self.cur_idx + 1) * self.batch_size]\r\n",
        "    self.cur_idx += 1\r\n",
        "    if self.cur_idx >= self.__len__():\r\n",
        "      self.cur_idx = 0\r\n",
        "    return titles, tags"
      ],
      "execution_count": null,
      "outputs": []
    },
    {
      "cell_type": "code",
      "metadata": {
        "id": "4DWDhs_sFttS"
      },
      "source": [
        "SODataset = StackOverflowDataset(copy.deepcopy(tokenized_titles), tag_dataset, 32)"
      ],
      "execution_count": null,
      "outputs": []
    },
    {
      "cell_type": "markdown",
      "metadata": {
        "id": "Cc4FJTuce6RX"
      },
      "source": [
        "# Embedding(No Pretrained, since words like C++ and other programming terms won't exist in GLoVE)"
      ]
    },
    {
      "cell_type": "code",
      "metadata": {
        "id": "CzbWObtgez_6"
      },
      "source": [
        "class WordEmbeddings(keras.layers.Layer):\n",
        "  def __init__(self, corpus, dim = 256):\n",
        "    super().__init__()\n",
        "    self.dim = dim\n",
        "    self.unique_words = self._compute_unique_words(corpus)\n",
        "    self.vocab_len = len(self.unique_words) + 2\n",
        "    \n",
        "    self.word_2_idx = {self.unique_words[idx]: idx + 2 for idx in range(len(self.unique_words))}\n",
        "    self.word_2_idx[\"<PAD>\"] = 0\n",
        "    self.word_2_idx[\"<UNK>\"] = 1\n",
        "  \n",
        "    self.idx_2_word = {idx + 2: self.unique_words[idx] for idx in range(len(self.unique_words))}\n",
        "    self.idx_2_word[0] = \"<PAD>\"\n",
        "    self.idx_2_word[1] = \"<UNK>\"\n",
        "\n",
        "    self.embeddings = keras.layers.Embedding(self.vocab_len, self.dim)\n",
        "  def _compute_unique_words(self, corpus):\n",
        "    '''\n",
        "    Computes all unique words inside of the corpus.\n",
        "    '''\n",
        "    all_words = [word for sentence in corpus for word in sentence]\n",
        "    return list(set(all_words))\n",
        "  def _compute_max_length(self, x):\n",
        "    max_length = 0\n",
        "    for sentence in x:\n",
        "      max_length = max(len(sentence), max_length)\n",
        "    return max_length\n",
        "  def _prep_sentences(self, x, max_sent_length):\n",
        "    '''\n",
        "    Pads all sentences(or truncates)\n",
        "    '''\n",
        "    tokenized_sentences = []\n",
        "    for sentence in x:\n",
        "      padded_sentences = [self.word_2_idx['<PAD>']] * max_sent_length\n",
        "      for word_idx in range(max_sent_length):\n",
        "        if word_idx >= len(sentence):\n",
        "          break\n",
        "        word = sentence[word_idx]\n",
        "        if word in self.word_2_idx:\n",
        "          padded_sentences[word_idx] = self.word_2_idx[word]\n",
        "        else:\n",
        "          padded_sentences[word_idx] = self.word_2_idx[\"<UNK>\"]\n",
        "      tokenized_sentences += [padded_sentences]\n",
        "    return tokenized_sentences\n",
        "  def call(self, x, max_sent_length = None):\n",
        "    '''\n",
        "    Tokenizes a Sentence\n",
        "    x: list of sentences(list of words)\n",
        "    '''\n",
        "    if not max_sent_length:\n",
        "      max_sent_length = self._compute_max_length(x)\n",
        "    # Pad Sentences up to max_sentence length\n",
        "    tokenized = np.array(self._prep_sentences(x, max_sent_length))\n",
        "    return self.embeddings(tokenized)"
      ],
      "execution_count": null,
      "outputs": []
    },
    {
      "cell_type": "markdown",
      "metadata": {
        "id": "yFIWkU9m1I6d"
      },
      "source": [
        "# Build the Transformer"
      ]
    },
    {
      "cell_type": "code",
      "metadata": {
        "id": "V6_zxRav0Z9U"
      },
      "source": [
        "class QANetConv(keras.layers.Layer):\r\n",
        "  '''\r\n",
        "  One QANet Conv Block\r\n",
        "  '''\r\n",
        "  def __init__(self, in_features):\r\n",
        "    super().__init__()\r\n",
        "    self.in_features = in_features\r\n",
        "    self.layer_norm = keras.layers.LayerNormalization()\r\n",
        "    self.conv = keras.layers.Conv1D(self.in_features, 7, padding = 'same')\r\n",
        "  def call(self, x):\r\n",
        "    return self.conv(self.layer_norm(x)) + x"
      ],
      "execution_count": null,
      "outputs": []
    },
    {
      "cell_type": "code",
      "metadata": {
        "id": "dD6fbwHHEZru"
      },
      "source": [
        "class MultiHeadSelfAttention(keras.layers.Layer):\r\n",
        "  '''\r\n",
        "  MultiHead Self Attention, implemented in TensorFlow + Keras.\r\n",
        "  '''\r\n",
        "  def __init__(self, in_dim, inner_dim, num_heads):\r\n",
        "    super().__init__()\r\n",
        "    self.in_dim = in_dim\r\n",
        "    self.inner_dim = inner_dim\r\n",
        "    self.num_heads = num_heads\r\n",
        "    self.K = keras.layers.Dense(self.inner_dim * self.num_heads)\r\n",
        "    self.V = keras.layers.Dense(self.inner_dim * self.num_heads)\r\n",
        "    self.Q = keras.layers.Dense(self.inner_dim * self.num_heads)\r\n",
        "    self.Linear = keras.layers.Dense(self.in_dim)\r\n",
        "  def call(self, x):\r\n",
        "    '''\r\n",
        "    x: Tensor(B, L, C)\r\n",
        "    '''\r\n",
        "    B, L, _ = x.shape\r\n",
        "    Keys = self.K(x)\r\n",
        "    Values = self.V(x)\r\n",
        "    Queries = self.Q(x) # (B, L, self.inner_dim * self.num_heads)\r\n",
        "    # Reshape Eager Tensors\r\n",
        "    Keys = tf.reshape(Keys, (B, L, self.num_heads, self.inner_dim))\r\n",
        "    Values = tf.reshape(Values, (B, L, self.num_heads, self.inner_dim))\r\n",
        "    Queries = tf.reshape(Queries, (B, L, self.num_heads, self.inner_dim))\r\n",
        "    # Transpose\r\n",
        "    Keys = tf.transpose(Keys, perm = (0, 2, 1, 3))\r\n",
        "    Values = tf.transpose(Values, perm = (0, 2, 1, 3)) \r\n",
        "    Queries = tf.transpose(Queries, perm = (0, 2, 1, 3)) # (B, self.num_heads, L, self.inner_dim)\r\n",
        "    # Reshape Eager Tensors\r\n",
        "    Keys = tf.reshape(Keys, (B * self.num_heads, L, self.inner_dim))\r\n",
        "    Values = tf.reshape(Values, (B * self.num_heads, L, self.inner_dim))\r\n",
        "    Queries = tf.reshape(Queries, (B * self.num_heads, L, self.inner_dim))\r\n",
        "    # Dot Product Attention\r\n",
        "    att_mat = tf.matmul(Keys, tf.transpose(Queries, perm = (0, 2, 1))) / math.sqrt(self.inner_dim)\r\n",
        "    att_scores = tf.keras.activations.softmax(att_mat)\r\n",
        "\r\n",
        "    vals = tf.matmul(att_scores, Values) # (BH, L, InnerDim)\r\n",
        "    # Split up Heads\r\n",
        "    vals = tf.reshape(vals, (B, self.num_heads, L, self.inner_dim))\r\n",
        "    vals = tf.transpose(vals, perm = (0, 2, 1, 3))\r\n",
        "    vals = tf.reshape(vals, (B, L, self.num_heads * self.inner_dim))\r\n",
        "    return self.Linear(vals)\r\n"
      ],
      "execution_count": null,
      "outputs": []
    },
    {
      "cell_type": "code",
      "metadata": {
        "id": "D48Z-wKkEgTA"
      },
      "source": [
        "class EncoderBlock(keras.layers.Layer):\r\n",
        "  '''\r\n",
        "  A QANet Encoder Block \r\n",
        "  '''\r\n",
        "  def __init__(self, in_dim, inner_dim, num_heads, num_convs):\r\n",
        "    super().__init__()\r\n",
        "    # Conv Blocks\r\n",
        "    self.in_dim = in_dim\r\n",
        "    self.inner_dim = inner_dim\r\n",
        "    self.num_heads = num_heads\r\n",
        "    self.num_convs = num_convs\r\n",
        "    self.convBlocks = keras.Sequential([\r\n",
        "      QANetConv(self.in_dim) for i in range(self.num_convs)\r\n",
        "    ])\r\n",
        "    # Part 2: MultiHead Attention + Layer Norm\r\n",
        "    self.MHA = MultiHeadSelfAttention(self.in_dim, self.inner_dim, self.num_heads)\r\n",
        "    self.MHAnorm = keras.layers.LayerNormalization()\r\n",
        "    # Part 3: Linear + Layer Norm\r\n",
        "    self.Linear = keras.layers.Dense(self.in_dim, activation = \"relu\")\r\n",
        "    self.LinearNorm = keras.layers.LayerNormalization()\r\n",
        "  def call(self, x):\r\n",
        "    '''\r\n",
        "    x: Tensor(B, L, C)\r\n",
        "    '''\r\n",
        "    positional_encoded = self._add_positional_embeddings(x)\r\n",
        "    conv = self.convBlocks(positional_encoded)\r\n",
        "    attended = self.MHAnorm(self.MHA(conv)) + conv\r\n",
        "    linear = self.LinearNorm(self.Linear(attended)) + attended\r\n",
        "    return linear\r\n",
        "  def _add_positional_embeddings(self, x):\r\n",
        "    '''\r\n",
        "    Adds in the positional_embeddings using the sinusoidal functions\r\n",
        "    x: Tensor(B, L, C)\r\n",
        "    '''\r\n",
        "    B, L, C = x.shape\r\n",
        "    positional_embeddings = np.zeros((L, C))\r\n",
        "    for pos in range(L):\r\n",
        "      for i in range(0, C, 2):\r\n",
        "        positional_embeddings[pos, i] = math.sin(pos / 10000 ** (2 * i / self.in_dim))\r\n",
        "        positional_embeddings[pos, i + 1] = math.cos(pos / 10000 ** ((2 * i + 2) / self.in_dim))\r\n",
        "    batch_pos = []\r\n",
        "    for b in range(B):\r\n",
        "      batch_pos += [copy.deepcopy(positional_embeddings)]\r\n",
        "    batch_pos = np.stack(batch_pos, axis = 0)\r\n",
        "    return batch_pos + x\r\n"
      ],
      "execution_count": null,
      "outputs": []
    },
    {
      "cell_type": "code",
      "metadata": {
        "id": "GARc6GjAEvBI"
      },
      "source": [
        "class QANet(keras.Model):\r\n",
        "  def __init__(self, corpus, in_dim, inner_dim, num_encoders, num_classes, max_sent_length):\r\n",
        "    super().__init__()\r\n",
        "    self.max_sent_length = max_sent_length\r\n",
        "    self.num_classes = num_classes\r\n",
        "    self.embeddings = WordEmbeddings(corpus, dim = in_dim)\r\n",
        "    self.in_dim = in_dim\r\n",
        "    self.inner_dim = inner_dim\r\n",
        "    self.num_encoders = num_encoders\r\n",
        "    self.num_heads = 4\r\n",
        "    self.num_convs = 4\r\n",
        "    self.Encoders = keras.Sequential([\r\n",
        "      EncoderBlock(in_dim, inner_dim, self.num_heads, self.num_convs) for i in range(self.num_encoders)\r\n",
        "    ])\r\n",
        "    self.Dense = keras.layers.Dense(self.num_classes)\r\n",
        "  def call(self, x):\r\n",
        "    '''\r\n",
        "    x: List of Sentences(List of Words)\r\n",
        "    '''\r\n",
        "    embeddings = self.embeddings(x, max_sent_length = self.max_sent_length) # (B, L, C)\r\n",
        "    # Encode the Embeddings\r\n",
        "    encoded = self.Encoders(embeddings) # (B, L, C)\r\n",
        "    # Average the Logits\r\n",
        "    avg = tf.reduce_mean(encoded, axis = 1) # (B, C)\r\n",
        "    return self.Dense(avg)\r\n"
      ],
      "execution_count": null,
      "outputs": []
    },
    {
      "cell_type": "markdown",
      "metadata": {
        "id": "Hj8xf0Fw29gh"
      },
      "source": [
        "# Training"
      ]
    },
    {
      "cell_type": "code",
      "metadata": {
        "colab": {
          "base_uri": "https://localhost:8080/"
        },
        "id": "1l9tQ33HDlUM",
        "outputId": "aa2a737a-2d53-45e4-a878-f453097f1c00"
      },
      "source": [
        "# Load all necessary TPU functions\r\n",
        "num_devices = 8\r\n",
        "tpu = tf.distribute.cluster_resolver.TPUClusterResolver()\r\n",
        "tf.config.experimental_connect_to_cluster(tpu)\r\n",
        "tf.tpu.experimental.initialize_tpu_system(cluster_resolver = tpu)\r\n",
        "strategy = tf.distribute.TPUStrategy(tpu_cluster_resolver= tpu)"
      ],
      "execution_count": null,
      "outputs": [
        {
          "output_type": "stream",
          "text": [
            "WARNING:tensorflow:TPU system grpc://10.96.35.202:8470 has already been initialized. Reinitializing the TPU can cause previously created variables on TPU to be lost.\n",
            "INFO:tensorflow:Initializing the TPU system: grpc://10.96.35.202:8470\n",
            "INFO:tensorflow:Clearing out eager caches\n",
            "INFO:tensorflow:Finished initializing TPU system.\n",
            "INFO:tensorflow:Found TPU system:\n",
            "INFO:tensorflow:*** Num TPU Cores: 8\n",
            "INFO:tensorflow:*** Num TPU Workers: 1\n",
            "INFO:tensorflow:*** Num TPU Cores Per Worker: 8\n",
            "INFO:tensorflow:*** Available Device: _DeviceAttributes(/job:localhost/replica:0/task:0/device:CPU:0, CPU, 0, 0)\n",
            "INFO:tensorflow:*** Available Device: _DeviceAttributes(/job:worker/replica:0/task:0/device:CPU:0, CPU, 0, 0)\n",
            "INFO:tensorflow:*** Available Device: _DeviceAttributes(/job:worker/replica:0/task:0/device:TPU:0, TPU, 0, 0)\n",
            "INFO:tensorflow:*** Available Device: _DeviceAttributes(/job:worker/replica:0/task:0/device:TPU:1, TPU, 0, 0)\n",
            "INFO:tensorflow:*** Available Device: _DeviceAttributes(/job:worker/replica:0/task:0/device:TPU:2, TPU, 0, 0)\n",
            "INFO:tensorflow:*** Available Device: _DeviceAttributes(/job:worker/replica:0/task:0/device:TPU:3, TPU, 0, 0)\n",
            "INFO:tensorflow:*** Available Device: _DeviceAttributes(/job:worker/replica:0/task:0/device:TPU:4, TPU, 0, 0)\n",
            "INFO:tensorflow:*** Available Device: _DeviceAttributes(/job:worker/replica:0/task:0/device:TPU:5, TPU, 0, 0)\n",
            "INFO:tensorflow:*** Available Device: _DeviceAttributes(/job:worker/replica:0/task:0/device:TPU:6, TPU, 0, 0)\n",
            "INFO:tensorflow:*** Available Device: _DeviceAttributes(/job:worker/replica:0/task:0/device:TPU:7, TPU, 0, 0)\n",
            "INFO:tensorflow:*** Available Device: _DeviceAttributes(/job:worker/replica:0/task:0/device:TPU_SYSTEM:0, TPU_SYSTEM, 0, 0)\n",
            "INFO:tensorflow:*** Available Device: _DeviceAttributes(/job:worker/replica:0/task:0/device:XLA_CPU:0, XLA_CPU, 0, 0)\n"
          ],
          "name": "stderr"
        }
      ]
    },
    {
      "cell_type": "code",
      "metadata": {
        "id": "NIkTbOp8WTcx"
      },
      "source": [
        "with strategy.scope():\r\n",
        "  model = QANet(tokenized_titles, 256, 128, 6, num_classes, 20)\r\n",
        "  optimizer = tf.keras.optimizers.Adam(tf.keras.optimizers.schedules.ExponentialDecay(1e-4, 500 * num_devices, 0.95,staircase = True))\r\n",
        "  criterion = tf.keras.losses.BinaryCrossentropy(from_logits = True, reduction = tf.keras.losses.Reduction.SUM)\r\n",
        "  training_loss = tf.keras.metrics.Mean(\"training_loss\")"
      ],
      "execution_count": null,
      "outputs": []
    },
    {
      "cell_type": "markdown",
      "metadata": {
        "id": "vpdg-UOyEzuV"
      },
      "source": [
        "Train the Model using TPU."
      ]
    },
    {
      "cell_type": "code",
      "metadata": {
        "id": "5UfqC01fE0_8"
      },
      "source": [
        "@tf.function\r\n",
        "def training_fn():\r\n",
        "  def step():\r\n",
        "    '''\r\n",
        "    Computation to run on each TPU device\r\n",
        "    '''\r\n",
        "    for titles, labels in SODataset:\r\n",
        "      with tf.GradientTape() as tape:\r\n",
        "        predicted = model(titles)\r\n",
        "        loss = criterion(labels, predicted)\r\n",
        "      grads = tape.gradient(loss, model.trainable_weights)\r\n",
        "      optimizer.apply_gradients(zip(grads, model.trainable_weights))\r\n",
        "      training_loss.update_state(loss * strategy.num_replicas_in_sync)\r\n",
        "      break\r\n",
        "  strategy.run(step)"
      ],
      "execution_count": null,
      "outputs": []
    },
    {
      "cell_type": "code",
      "metadata": {
        "id": "e5KpKu7cE3qP"
      },
      "source": [
        "def test_fn(titles):\r\n",
        "  predicted = tf.keras.activations.sigmoid(model(titles, training = False)).numpy()\r\n",
        "  ones = predicted >= 0.5\r\n",
        "  predicted[:, :] = 0\r\n",
        "  predicted[ones] = 1\r\n",
        "  return predicted"
      ],
      "execution_count": null,
      "outputs": []
    },
    {
      "cell_type": "code",
      "metadata": {
        "id": "msMrvQHOGW_g"
      },
      "source": [
        "def training_loop(NUM_EPOCHS, NUM_STEPS):\r\n",
        "  for EPOCH in tqdm.tqdm(range(NUM_EPOCHS)):\r\n",
        "    for STEP in range(NUM_STEPS):\r\n",
        "      training_fn();\r\n",
        "    # Validation Run\r\n",
        "    predicted = test_fn(tokenized_val)\r\n",
        "    # Rather than counting the number of correct(Numerous since sparse GT), we count the number of incorrect per batch item\r\n",
        "    print(np.sum((predicted != val_tag_dataset).astype(np.int32)) / predicted.shape[0])\r\n",
        "    print(f\"EPOCH: {EPOCH}, total_loss: {training_loss.result()}\")"
      ],
      "execution_count": null,
      "outputs": []
    },
    {
      "cell_type": "code",
      "metadata": {
        "colab": {
          "background_save": true,
          "base_uri": "https://localhost:8080/",
          "height": 922,
          "referenced_widgets": [
            "e54544983f454019ab16c4ae0721ea34",
            "349a0838580149e9a19f817cb10e4ff6",
            "ad233a2e141f456ba38e4d2dc2f5faab",
            "3a9ea62040b54945a86fcd3a16c1de5d",
            "86c6e3d829104f73845f92b2ccec363f",
            "97c2132d1a63498cb123946f5782dedf",
            "5412e7e63e47443193d864d4b0d28b64",
            "5be8b5790fa5463e804e73898c421ed4"
          ]
        },
        "id": "b2X7uUqQIbDv",
        "outputId": "de73e237-fe06-493c-a85c-b64f3833e941"
      },
      "source": [
        "training_loop(50, 1024)"
      ],
      "execution_count": null,
      "outputs": [
        {
          "output_type": "display_data",
          "data": {
            "application/vnd.jupyter.widget-view+json": {
              "model_id": "e54544983f454019ab16c4ae0721ea34",
              "version_major": 2,
              "version_minor": 0
            },
            "text/plain": [
              "HBox(children=(FloatProgress(value=0.0, max=50.0), HTML(value='')))"
            ]
          },
          "metadata": {
            "tags": []
          }
        },
        {
          "output_type": "stream",
          "text": [
            "2.04\n",
            "EPOCH: 0, total_loss: 4.305730819702148\n",
            "2.04\n",
            "EPOCH: 1, total_loss: 2.1563608646392822\n",
            "2.04\n",
            "EPOCH: 2, total_loss: 1.4382967948913574\n",
            "2.04\n",
            "EPOCH: 3, total_loss: 1.0789644718170166\n",
            "2.04\n",
            "EPOCH: 4, total_loss: 0.8632692098617554\n",
            "2.04\n",
            "EPOCH: 5, total_loss: 0.7194433212280273\n",
            "2.04\n",
            "EPOCH: 6, total_loss: 0.6166657209396362\n",
            "2.04\n",
            "EPOCH: 7, total_loss: 0.5395824909210205\n",
            "2.04\n",
            "EPOCH: 8, total_loss: 0.47962889075279236\n",
            "2.04\n",
            "EPOCH: 9, total_loss: 0.43166598677635193\n",
            "2.04\n",
            "EPOCH: 10, total_loss: 0.3924236297607422\n",
            "2.04\n",
            "EPOCH: 11, total_loss: 0.35972166061401367\n",
            "2.04\n",
            "EPOCH: 12, total_loss: 0.33205077052116394\n",
            "2.04\n",
            "EPOCH: 13, total_loss: 0.3083328604698181\n",
            "2.04\n",
            "EPOCH: 14, total_loss: 0.2877773344516754\n",
            "2.04\n",
            "EPOCH: 15, total_loss: 0.26979124546051025\n",
            "2.06\n",
            "EPOCH: 16, total_loss: 0.25392118096351624\n",
            "2.04\n",
            "EPOCH: 17, total_loss: 0.23981444537639618\n",
            "2.04\n",
            "EPOCH: 18, total_loss: 0.22719262540340424\n",
            "2.04\n",
            "EPOCH: 19, total_loss: 0.21583299338817596\n",
            "2.04\n",
            "EPOCH: 20, total_loss: 0.20555523037910461\n",
            "2.04\n",
            "EPOCH: 21, total_loss: 0.1962118148803711\n",
            "2.06\n",
            "EPOCH: 22, total_loss: 0.18768087029457092\n",
            "2.06\n",
            "EPOCH: 23, total_loss: 0.17986083030700684\n",
            "2.06\n",
            "EPOCH: 24, total_loss: 0.17266640067100525\n",
            "2.06\n",
            "EPOCH: 25, total_loss: 0.16602538526058197\n",
            "2.06\n",
            "EPOCH: 26, total_loss: 0.15987628698349\n",
            "2.06\n",
            "EPOCH: 27, total_loss: 0.15416643023490906\n",
            "2.06\n",
            "EPOCH: 28, total_loss: 0.14885033667087555\n",
            "2.06\n",
            "EPOCH: 29, total_loss: 0.1438886672258377\n",
            "2.06\n",
            "EPOCH: 30, total_loss: 0.1392470896244049\n",
            "2.06\n",
            "EPOCH: 31, total_loss: 0.13489562273025513\n",
            "2.06\n",
            "EPOCH: 32, total_loss: 0.13080787658691406\n",
            "2.06\n",
            "EPOCH: 33, total_loss: 0.12696059048175812\n",
            "2.06\n",
            "EPOCH: 34, total_loss: 0.12333314120769501\n",
            "2.06\n",
            "EPOCH: 35, total_loss: 0.11990722268819809\n",
            "2.06\n",
            "EPOCH: 36, total_loss: 0.11666648089885712\n",
            "2.06\n",
            "EPOCH: 37, total_loss: 0.11359631270170212\n",
            "2.06\n",
            "EPOCH: 38, total_loss: 0.11068359017372131\n",
            "2.06\n",
            "EPOCH: 39, total_loss: 0.10791649669408798\n",
            "2.06\n",
            "EPOCH: 40, total_loss: 0.10528438538312912\n",
            "2.06\n",
            "EPOCH: 41, total_loss: 0.10277761518955231\n",
            "2.06\n",
            "EPOCH: 42, total_loss: 0.10038743913173676\n",
            "2.06\n",
            "EPOCH: 43, total_loss: 0.09810590744018555\n",
            "2.06\n",
            "EPOCH: 44, total_loss: 0.09592577815055847\n",
            "2.06\n",
            "EPOCH: 45, total_loss: 0.09384043514728546\n",
            "2.06\n",
            "EPOCH: 46, total_loss: 0.09184382855892181\n",
            "2.06\n",
            "EPOCH: 47, total_loss: 0.08993041515350342\n",
            "2.06\n",
            "EPOCH: 48, total_loss: 0.08809509873390198\n",
            "2.06\n",
            "EPOCH: 49, total_loss: 0.08633320033550262\n",
            "\n"
          ],
          "name": "stdout"
        }
      ]
    },
    {
      "cell_type": "code",
      "metadata": {
        "id": "tkLvuNR3Lxwo"
      },
      "source": [
        ""
      ],
      "execution_count": null,
      "outputs": []
    }
  ]
}